{
  "cells": [
    {
      "cell_type": "code",
      "execution_count": 1,
      "metadata": {
        "pycharm": {
          "is_executing": true
        },
        "id": "P2G53krwjg21",
        "outputId": "9c32a792-3927-47fd-b898-4208f54d6955",
        "colab": {
          "base_uri": "https://localhost:8080/"
        }
      },
      "outputs": [
        {
          "output_type": "stream",
          "name": "stdout",
          "text": [
            "Requirement already satisfied: torch in /usr/local/lib/python3.10/dist-packages (2.1.0+cu118)\n",
            "Collecting torchtext==0.15.1\n",
            "  Downloading torchtext-0.15.1-cp310-cp310-manylinux1_x86_64.whl (2.0 MB)\n",
            "\u001b[2K     \u001b[90m━━━━━━━━━━━━━━━━━━━━━━━━━━━━━━━━━━━━━━━━\u001b[0m \u001b[32m2.0/2.0 MB\u001b[0m \u001b[31m10.6 MB/s\u001b[0m eta \u001b[36m0:00:00\u001b[0m\n",
            "\u001b[?25hRequirement already satisfied: matplotlib in /usr/local/lib/python3.10/dist-packages (3.7.1)\n",
            "Requirement already satisfied: numpy in /usr/local/lib/python3.10/dist-packages (1.23.5)\n",
            "Collecting datatops==0.2.2\n",
            "  Downloading datatops-0.2.2.tar.gz (16 kB)\n",
            "  Preparing metadata (setup.py) ... \u001b[?25l\u001b[?25hdone\n",
            "Collecting portalocker==2.7.0\n",
            "  Downloading portalocker-2.7.0-py2.py3-none-any.whl (15 kB)\n",
            "Collecting vibecheck==0.0.3\n",
            "  Downloading vibecheck-0.0.3.tar.gz (5.7 kB)\n",
            "  Preparing metadata (setup.py) ... \u001b[?25l\u001b[?25hdone\n",
            "Requirement already satisfied: tqdm in /usr/local/lib/python3.10/dist-packages (from torchtext==0.15.1) (4.66.1)\n",
            "Requirement already satisfied: requests in /usr/local/lib/python3.10/dist-packages (from torchtext==0.15.1) (2.31.0)\n",
            "Collecting torch\n",
            "  Downloading torch-2.0.0-cp310-cp310-manylinux1_x86_64.whl (619.9 MB)\n",
            "\u001b[2K     \u001b[90m━━━━━━━━━━━━━━━━━━━━━━━━━━━━━━━━━━━━━━━━\u001b[0m \u001b[32m619.9/619.9 MB\u001b[0m \u001b[31m1.0 MB/s\u001b[0m eta \u001b[36m0:00:00\u001b[0m\n",
            "\u001b[?25hCollecting torchdata==0.6.0 (from torchtext==0.15.1)\n",
            "  Downloading torchdata-0.6.0-cp310-cp310-manylinux_2_17_x86_64.manylinux2014_x86_64.whl (4.6 MB)\n",
            "\u001b[2K     \u001b[90m━━━━━━━━━━━━━━━━━━━━━━━━━━━━━━━━━━━━━━━━\u001b[0m \u001b[32m4.6/4.6 MB\u001b[0m \u001b[31m2.6 MB/s\u001b[0m eta \u001b[36m0:00:00\u001b[0m\n",
            "\u001b[?25hRequirement already satisfied: filelock in /usr/local/lib/python3.10/dist-packages (from torch) (3.13.1)\n",
            "Requirement already satisfied: typing-extensions in /usr/local/lib/python3.10/dist-packages (from torch) (4.5.0)\n",
            "Requirement already satisfied: sympy in /usr/local/lib/python3.10/dist-packages (from torch) (1.12)\n",
            "Requirement already satisfied: networkx in /usr/local/lib/python3.10/dist-packages (from torch) (3.2.1)\n",
            "Requirement already satisfied: jinja2 in /usr/local/lib/python3.10/dist-packages (from torch) (3.1.2)\n",
            "Collecting nvidia-cuda-nvrtc-cu11==11.7.99 (from torch)\n",
            "  Downloading nvidia_cuda_nvrtc_cu11-11.7.99-2-py3-none-manylinux1_x86_64.whl (21.0 MB)\n",
            "\u001b[2K     \u001b[90m━━━━━━━━━━━━━━━━━━━━━━━━━━━━━━━━━━━━━━━━\u001b[0m \u001b[32m21.0/21.0 MB\u001b[0m \u001b[31m1.6 MB/s\u001b[0m eta \u001b[36m0:00:00\u001b[0m\n",
            "\u001b[?25hCollecting nvidia-cuda-runtime-cu11==11.7.99 (from torch)\n",
            "  Downloading nvidia_cuda_runtime_cu11-11.7.99-py3-none-manylinux1_x86_64.whl (849 kB)\n",
            "\u001b[2K     \u001b[90m━━━━━━━━━━━━━━━━━━━━━━━━━━━━━━━━━━━━━━━━\u001b[0m \u001b[32m849.3/849.3 kB\u001b[0m \u001b[31m1.4 MB/s\u001b[0m eta \u001b[36m0:00:00\u001b[0m\n",
            "\u001b[?25hCollecting nvidia-cuda-cupti-cu11==11.7.101 (from torch)\n",
            "  Downloading nvidia_cuda_cupti_cu11-11.7.101-py3-none-manylinux1_x86_64.whl (11.8 MB)\n",
            "\u001b[2K     \u001b[90m━━━━━━━━━━━━━━━━━━━━━━━━━━━━━━━━━━━━━━━━\u001b[0m \u001b[32m11.8/11.8 MB\u001b[0m \u001b[31m1.6 MB/s\u001b[0m eta \u001b[36m0:00:00\u001b[0m\n",
            "\u001b[?25hCollecting nvidia-cudnn-cu11==8.5.0.96 (from torch)\n",
            "  Downloading nvidia_cudnn_cu11-8.5.0.96-2-py3-none-manylinux1_x86_64.whl (557.1 MB)\n",
            "\u001b[2K     \u001b[90m━━━━━━━━━━━━━━━━━━━━━━━━━━━━━━━━━━━━━━━━\u001b[0m \u001b[32m557.1/557.1 MB\u001b[0m \u001b[31m1.3 MB/s\u001b[0m eta \u001b[36m0:00:00\u001b[0m\n",
            "\u001b[?25hCollecting nvidia-cublas-cu11==11.10.3.66 (from torch)\n",
            "  Downloading nvidia_cublas_cu11-11.10.3.66-py3-none-manylinux1_x86_64.whl (317.1 MB)\n",
            "\u001b[2K     \u001b[90m━━━━━━━━━━━━━━━━━━━━━━━━━━━━━━━━━━━━━━━━\u001b[0m \u001b[32m317.1/317.1 MB\u001b[0m \u001b[31m1.1 MB/s\u001b[0m eta \u001b[36m0:00:00\u001b[0m\n",
            "\u001b[?25hCollecting nvidia-cufft-cu11==10.9.0.58 (from torch)\n",
            "  Downloading nvidia_cufft_cu11-10.9.0.58-py3-none-manylinux1_x86_64.whl (168.4 MB)\n",
            "\u001b[2K     \u001b[90m━━━━━━━━━━━━━━━━━━━━━━━━━━━━━━━━━━━━━━━━\u001b[0m \u001b[32m168.4/168.4 MB\u001b[0m \u001b[31m1.5 MB/s\u001b[0m eta \u001b[36m0:00:00\u001b[0m\n",
            "\u001b[?25hCollecting nvidia-curand-cu11==10.2.10.91 (from torch)\n",
            "  Downloading nvidia_curand_cu11-10.2.10.91-py3-none-manylinux1_x86_64.whl (54.6 MB)\n",
            "\u001b[2K     \u001b[90m━━━━━━━━━━━━━━━━━━━━━━━━━━━━━━━━━━━━━━━━\u001b[0m \u001b[32m54.6/54.6 MB\u001b[0m \u001b[31m1.8 MB/s\u001b[0m eta \u001b[36m0:00:00\u001b[0m\n",
            "\u001b[?25hCollecting nvidia-cusolver-cu11==11.4.0.1 (from torch)\n",
            "  Downloading nvidia_cusolver_cu11-11.4.0.1-2-py3-none-manylinux1_x86_64.whl (102.6 MB)\n",
            "\u001b[2K     \u001b[90m━━━━━━━━━━━━━━━━━━━━━━━━━━━━━━━━━━━━━━━━\u001b[0m \u001b[32m102.6/102.6 MB\u001b[0m \u001b[31m2.6 MB/s\u001b[0m eta \u001b[36m0:00:00\u001b[0m\n",
            "\u001b[?25hCollecting nvidia-cusparse-cu11==11.7.4.91 (from torch)\n",
            "  Downloading nvidia_cusparse_cu11-11.7.4.91-py3-none-manylinux1_x86_64.whl (173.2 MB)\n",
            "\u001b[2K     \u001b[90m━━━━━━━━━━━━━━━━━━━━━━━━━━━━━━━━━━━━━━━━\u001b[0m \u001b[32m173.2/173.2 MB\u001b[0m \u001b[31m2.0 MB/s\u001b[0m eta \u001b[36m0:00:00\u001b[0m\n",
            "\u001b[?25hCollecting nvidia-nccl-cu11==2.14.3 (from torch)\n",
            "  Downloading nvidia_nccl_cu11-2.14.3-py3-none-manylinux1_x86_64.whl (177.1 MB)\n",
            "\u001b[2K     \u001b[90m━━━━━━━━━━━━━━━━━━━━━━━━━━━━━━━━━━━━━━━━\u001b[0m \u001b[32m177.1/177.1 MB\u001b[0m \u001b[31m2.1 MB/s\u001b[0m eta \u001b[36m0:00:00\u001b[0m\n",
            "\u001b[?25hCollecting nvidia-nvtx-cu11==11.7.91 (from torch)\n",
            "  Downloading nvidia_nvtx_cu11-11.7.91-py3-none-manylinux1_x86_64.whl (98 kB)\n",
            "\u001b[2K     \u001b[90m━━━━━━━━━━━━━━━━━━━━━━━━━━━━━━━━━━━━━━━━\u001b[0m \u001b[32m98.6/98.6 kB\u001b[0m \u001b[31m4.0 MB/s\u001b[0m eta \u001b[36m0:00:00\u001b[0m\n",
            "\u001b[?25hCollecting triton==2.0.0 (from torch)\n",
            "  Downloading triton-2.0.0-1-cp310-cp310-manylinux2014_x86_64.manylinux_2_17_x86_64.whl (63.3 MB)\n",
            "\u001b[2K     \u001b[90m━━━━━━━━━━━━━━━━━━━━━━━━━━━━━━━━━━━━━━━━\u001b[0m \u001b[32m63.3/63.3 MB\u001b[0m \u001b[31m2.4 MB/s\u001b[0m eta \u001b[36m0:00:00\u001b[0m\n",
            "\u001b[?25hRequirement already satisfied: flask in /usr/local/lib/python3.10/dist-packages (from datatops==0.2.2) (2.2.5)\n",
            "Requirement already satisfied: ipython in /usr/local/lib/python3.10/dist-packages (from vibecheck==0.0.3) (7.34.0)\n",
            "Requirement already satisfied: ipywidgets in /usr/local/lib/python3.10/dist-packages (from vibecheck==0.0.3) (7.7.1)\n",
            "Requirement already satisfied: setuptools in /usr/local/lib/python3.10/dist-packages (from nvidia-cublas-cu11==11.10.3.66->torch) (67.7.2)\n",
            "Requirement already satisfied: wheel in /usr/local/lib/python3.10/dist-packages (from nvidia-cublas-cu11==11.10.3.66->torch) (0.42.0)\n",
            "Requirement already satisfied: urllib3>=1.25 in /usr/local/lib/python3.10/dist-packages (from torchdata==0.6.0->torchtext==0.15.1) (2.0.7)\n",
            "Requirement already satisfied: cmake in /usr/local/lib/python3.10/dist-packages (from triton==2.0.0->torch) (3.27.9)\n",
            "Collecting lit (from triton==2.0.0->torch)\n",
            "  Downloading lit-17.0.6.tar.gz (153 kB)\n",
            "\u001b[2K     \u001b[90m━━━━━━━━━━━━━━━━━━━━━━━━━━━━━━━━━━━━━━━━\u001b[0m \u001b[32m153.0/153.0 kB\u001b[0m \u001b[31m3.5 MB/s\u001b[0m eta \u001b[36m0:00:00\u001b[0m\n",
            "\u001b[?25h  Installing build dependencies ... \u001b[?25l\u001b[?25hdone\n",
            "  Getting requirements to build wheel ... \u001b[?25l\u001b[?25hdone\n",
            "  Installing backend dependencies ... \u001b[?25l\u001b[?25hdone\n",
            "  Preparing metadata (pyproject.toml) ... \u001b[?25l\u001b[?25hdone\n",
            "Requirement already satisfied: contourpy>=1.0.1 in /usr/local/lib/python3.10/dist-packages (from matplotlib) (1.2.0)\n",
            "Requirement already satisfied: cycler>=0.10 in /usr/local/lib/python3.10/dist-packages (from matplotlib) (0.12.1)\n",
            "Requirement already satisfied: fonttools>=4.22.0 in /usr/local/lib/python3.10/dist-packages (from matplotlib) (4.46.0)\n",
            "Requirement already satisfied: kiwisolver>=1.0.1 in /usr/local/lib/python3.10/dist-packages (from matplotlib) (1.4.5)\n",
            "Requirement already satisfied: packaging>=20.0 in /usr/local/lib/python3.10/dist-packages (from matplotlib) (23.2)\n",
            "Requirement already satisfied: pillow>=6.2.0 in /usr/local/lib/python3.10/dist-packages (from matplotlib) (9.4.0)\n",
            "Requirement already satisfied: pyparsing>=2.3.1 in /usr/local/lib/python3.10/dist-packages (from matplotlib) (3.1.1)\n",
            "Requirement already satisfied: python-dateutil>=2.7 in /usr/local/lib/python3.10/dist-packages (from matplotlib) (2.8.2)\n",
            "Requirement already satisfied: six>=1.5 in /usr/local/lib/python3.10/dist-packages (from python-dateutil>=2.7->matplotlib) (1.16.0)\n",
            "Requirement already satisfied: Werkzeug>=2.2.2 in /usr/local/lib/python3.10/dist-packages (from flask->datatops==0.2.2) (3.0.1)\n",
            "Requirement already satisfied: itsdangerous>=2.0 in /usr/local/lib/python3.10/dist-packages (from flask->datatops==0.2.2) (2.1.2)\n",
            "Requirement already satisfied: click>=8.0 in /usr/local/lib/python3.10/dist-packages (from flask->datatops==0.2.2) (8.1.7)\n",
            "Requirement already satisfied: MarkupSafe>=2.0 in /usr/local/lib/python3.10/dist-packages (from jinja2->torch) (2.1.3)\n",
            "Collecting jedi>=0.16 (from ipython->vibecheck==0.0.3)\n",
            "  Downloading jedi-0.19.1-py2.py3-none-any.whl (1.6 MB)\n",
            "\u001b[2K     \u001b[90m━━━━━━━━━━━━━━━━━━━━━━━━━━━━━━━━━━━━━━━━\u001b[0m \u001b[32m1.6/1.6 MB\u001b[0m \u001b[31m3.8 MB/s\u001b[0m eta \u001b[36m0:00:00\u001b[0m\n",
            "\u001b[?25hRequirement already satisfied: decorator in /usr/local/lib/python3.10/dist-packages (from ipython->vibecheck==0.0.3) (4.4.2)\n",
            "Requirement already satisfied: pickleshare in /usr/local/lib/python3.10/dist-packages (from ipython->vibecheck==0.0.3) (0.7.5)\n",
            "Requirement already satisfied: traitlets>=4.2 in /usr/local/lib/python3.10/dist-packages (from ipython->vibecheck==0.0.3) (5.7.1)\n",
            "Requirement already satisfied: prompt-toolkit!=3.0.0,!=3.0.1,<3.1.0,>=2.0.0 in /usr/local/lib/python3.10/dist-packages (from ipython->vibecheck==0.0.3) (3.0.41)\n",
            "Requirement already satisfied: pygments in /usr/local/lib/python3.10/dist-packages (from ipython->vibecheck==0.0.3) (2.16.1)\n",
            "Requirement already satisfied: backcall in /usr/local/lib/python3.10/dist-packages (from ipython->vibecheck==0.0.3) (0.2.0)\n",
            "Requirement already satisfied: matplotlib-inline in /usr/local/lib/python3.10/dist-packages (from ipython->vibecheck==0.0.3) (0.1.6)\n",
            "Requirement already satisfied: pexpect>4.3 in /usr/local/lib/python3.10/dist-packages (from ipython->vibecheck==0.0.3) (4.9.0)\n",
            "Requirement already satisfied: ipykernel>=4.5.1 in /usr/local/lib/python3.10/dist-packages (from ipywidgets->vibecheck==0.0.3) (5.5.6)\n",
            "Requirement already satisfied: ipython-genutils~=0.2.0 in /usr/local/lib/python3.10/dist-packages (from ipywidgets->vibecheck==0.0.3) (0.2.0)\n",
            "Requirement already satisfied: widgetsnbextension~=3.6.0 in /usr/local/lib/python3.10/dist-packages (from ipywidgets->vibecheck==0.0.3) (3.6.6)\n",
            "Requirement already satisfied: jupyterlab-widgets>=1.0.0 in /usr/local/lib/python3.10/dist-packages (from ipywidgets->vibecheck==0.0.3) (3.0.9)\n",
            "Requirement already satisfied: charset-normalizer<4,>=2 in /usr/local/lib/python3.10/dist-packages (from requests->torchtext==0.15.1) (3.3.2)\n",
            "Requirement already satisfied: idna<4,>=2.5 in /usr/local/lib/python3.10/dist-packages (from requests->torchtext==0.15.1) (3.6)\n",
            "Requirement already satisfied: certifi>=2017.4.17 in /usr/local/lib/python3.10/dist-packages (from requests->torchtext==0.15.1) (2023.11.17)\n",
            "Requirement already satisfied: mpmath>=0.19 in /usr/local/lib/python3.10/dist-packages (from sympy->torch) (1.3.0)\n",
            "Requirement already satisfied: jupyter-client in /usr/local/lib/python3.10/dist-packages (from ipykernel>=4.5.1->ipywidgets->vibecheck==0.0.3) (6.1.12)\n",
            "Requirement already satisfied: tornado>=4.2 in /usr/local/lib/python3.10/dist-packages (from ipykernel>=4.5.1->ipywidgets->vibecheck==0.0.3) (6.3.2)\n",
            "Requirement already satisfied: parso<0.9.0,>=0.8.3 in /usr/local/lib/python3.10/dist-packages (from jedi>=0.16->ipython->vibecheck==0.0.3) (0.8.3)\n",
            "Requirement already satisfied: ptyprocess>=0.5 in /usr/local/lib/python3.10/dist-packages (from pexpect>4.3->ipython->vibecheck==0.0.3) (0.7.0)\n",
            "Requirement already satisfied: wcwidth in /usr/local/lib/python3.10/dist-packages (from prompt-toolkit!=3.0.0,!=3.0.1,<3.1.0,>=2.0.0->ipython->vibecheck==0.0.3) (0.2.12)\n",
            "Requirement already satisfied: notebook>=4.4.1 in /usr/local/lib/python3.10/dist-packages (from widgetsnbextension~=3.6.0->ipywidgets->vibecheck==0.0.3) (6.5.5)\n",
            "Requirement already satisfied: pyzmq<25,>=17 in /usr/local/lib/python3.10/dist-packages (from notebook>=4.4.1->widgetsnbextension~=3.6.0->ipywidgets->vibecheck==0.0.3) (23.2.1)\n",
            "Requirement already satisfied: argon2-cffi in /usr/local/lib/python3.10/dist-packages (from notebook>=4.4.1->widgetsnbextension~=3.6.0->ipywidgets->vibecheck==0.0.3) (23.1.0)\n",
            "Requirement already satisfied: jupyter-core>=4.6.1 in /usr/local/lib/python3.10/dist-packages (from notebook>=4.4.1->widgetsnbextension~=3.6.0->ipywidgets->vibecheck==0.0.3) (5.5.0)\n",
            "Requirement already satisfied: nbformat in /usr/local/lib/python3.10/dist-packages (from notebook>=4.4.1->widgetsnbextension~=3.6.0->ipywidgets->vibecheck==0.0.3) (5.9.2)\n",
            "Requirement already satisfied: nbconvert>=5 in /usr/local/lib/python3.10/dist-packages (from notebook>=4.4.1->widgetsnbextension~=3.6.0->ipywidgets->vibecheck==0.0.3) (6.5.4)\n",
            "Requirement already satisfied: nest-asyncio>=1.5 in /usr/local/lib/python3.10/dist-packages (from notebook>=4.4.1->widgetsnbextension~=3.6.0->ipywidgets->vibecheck==0.0.3) (1.5.8)\n",
            "Requirement already satisfied: Send2Trash>=1.8.0 in /usr/local/lib/python3.10/dist-packages (from notebook>=4.4.1->widgetsnbextension~=3.6.0->ipywidgets->vibecheck==0.0.3) (1.8.2)\n",
            "Requirement already satisfied: terminado>=0.8.3 in /usr/local/lib/python3.10/dist-packages (from notebook>=4.4.1->widgetsnbextension~=3.6.0->ipywidgets->vibecheck==0.0.3) (0.18.0)\n",
            "Requirement already satisfied: prometheus-client in /usr/local/lib/python3.10/dist-packages (from notebook>=4.4.1->widgetsnbextension~=3.6.0->ipywidgets->vibecheck==0.0.3) (0.19.0)\n",
            "Requirement already satisfied: nbclassic>=0.4.7 in /usr/local/lib/python3.10/dist-packages (from notebook>=4.4.1->widgetsnbextension~=3.6.0->ipywidgets->vibecheck==0.0.3) (1.0.0)\n",
            "Requirement already satisfied: platformdirs>=2.5 in /usr/local/lib/python3.10/dist-packages (from jupyter-core>=4.6.1->notebook>=4.4.1->widgetsnbextension~=3.6.0->ipywidgets->vibecheck==0.0.3) (4.1.0)\n",
            "Requirement already satisfied: jupyter-server>=1.8 in /usr/local/lib/python3.10/dist-packages (from nbclassic>=0.4.7->notebook>=4.4.1->widgetsnbextension~=3.6.0->ipywidgets->vibecheck==0.0.3) (1.24.0)\n",
            "Requirement already satisfied: notebook-shim>=0.2.3 in /usr/local/lib/python3.10/dist-packages (from nbclassic>=0.4.7->notebook>=4.4.1->widgetsnbextension~=3.6.0->ipywidgets->vibecheck==0.0.3) (0.2.3)\n",
            "Requirement already satisfied: lxml in /usr/local/lib/python3.10/dist-packages (from nbconvert>=5->notebook>=4.4.1->widgetsnbextension~=3.6.0->ipywidgets->vibecheck==0.0.3) (4.9.3)\n",
            "Requirement already satisfied: beautifulsoup4 in /usr/local/lib/python3.10/dist-packages (from nbconvert>=5->notebook>=4.4.1->widgetsnbextension~=3.6.0->ipywidgets->vibecheck==0.0.3) (4.11.2)\n",
            "Requirement already satisfied: bleach in /usr/local/lib/python3.10/dist-packages (from nbconvert>=5->notebook>=4.4.1->widgetsnbextension~=3.6.0->ipywidgets->vibecheck==0.0.3) (6.1.0)\n",
            "Requirement already satisfied: defusedxml in /usr/local/lib/python3.10/dist-packages (from nbconvert>=5->notebook>=4.4.1->widgetsnbextension~=3.6.0->ipywidgets->vibecheck==0.0.3) (0.7.1)\n",
            "Requirement already satisfied: entrypoints>=0.2.2 in /usr/local/lib/python3.10/dist-packages (from nbconvert>=5->notebook>=4.4.1->widgetsnbextension~=3.6.0->ipywidgets->vibecheck==0.0.3) (0.4)\n",
            "Requirement already satisfied: jupyterlab-pygments in /usr/local/lib/python3.10/dist-packages (from nbconvert>=5->notebook>=4.4.1->widgetsnbextension~=3.6.0->ipywidgets->vibecheck==0.0.3) (0.3.0)\n",
            "Requirement already satisfied: mistune<2,>=0.8.1 in /usr/local/lib/python3.10/dist-packages (from nbconvert>=5->notebook>=4.4.1->widgetsnbextension~=3.6.0->ipywidgets->vibecheck==0.0.3) (0.8.4)\n",
            "Requirement already satisfied: nbclient>=0.5.0 in /usr/local/lib/python3.10/dist-packages (from nbconvert>=5->notebook>=4.4.1->widgetsnbextension~=3.6.0->ipywidgets->vibecheck==0.0.3) (0.9.0)\n",
            "Requirement already satisfied: pandocfilters>=1.4.1 in /usr/local/lib/python3.10/dist-packages (from nbconvert>=5->notebook>=4.4.1->widgetsnbextension~=3.6.0->ipywidgets->vibecheck==0.0.3) (1.5.0)\n",
            "Requirement already satisfied: tinycss2 in /usr/local/lib/python3.10/dist-packages (from nbconvert>=5->notebook>=4.4.1->widgetsnbextension~=3.6.0->ipywidgets->vibecheck==0.0.3) (1.2.1)\n",
            "Requirement already satisfied: fastjsonschema in /usr/local/lib/python3.10/dist-packages (from nbformat->notebook>=4.4.1->widgetsnbextension~=3.6.0->ipywidgets->vibecheck==0.0.3) (2.19.0)\n",
            "Requirement already satisfied: jsonschema>=2.6 in /usr/local/lib/python3.10/dist-packages (from nbformat->notebook>=4.4.1->widgetsnbextension~=3.6.0->ipywidgets->vibecheck==0.0.3) (4.19.2)\n",
            "Requirement already satisfied: argon2-cffi-bindings in /usr/local/lib/python3.10/dist-packages (from argon2-cffi->notebook>=4.4.1->widgetsnbextension~=3.6.0->ipywidgets->vibecheck==0.0.3) (21.2.0)\n",
            "Requirement already satisfied: attrs>=22.2.0 in /usr/local/lib/python3.10/dist-packages (from jsonschema>=2.6->nbformat->notebook>=4.4.1->widgetsnbextension~=3.6.0->ipywidgets->vibecheck==0.0.3) (23.1.0)\n",
            "Requirement already satisfied: jsonschema-specifications>=2023.03.6 in /usr/local/lib/python3.10/dist-packages (from jsonschema>=2.6->nbformat->notebook>=4.4.1->widgetsnbextension~=3.6.0->ipywidgets->vibecheck==0.0.3) (2023.11.2)\n",
            "Requirement already satisfied: referencing>=0.28.4 in /usr/local/lib/python3.10/dist-packages (from jsonschema>=2.6->nbformat->notebook>=4.4.1->widgetsnbextension~=3.6.0->ipywidgets->vibecheck==0.0.3) (0.31.1)\n",
            "Requirement already satisfied: rpds-py>=0.7.1 in /usr/local/lib/python3.10/dist-packages (from jsonschema>=2.6->nbformat->notebook>=4.4.1->widgetsnbextension~=3.6.0->ipywidgets->vibecheck==0.0.3) (0.13.2)\n",
            "Requirement already satisfied: anyio<4,>=3.1.0 in /usr/local/lib/python3.10/dist-packages (from jupyter-server>=1.8->nbclassic>=0.4.7->notebook>=4.4.1->widgetsnbextension~=3.6.0->ipywidgets->vibecheck==0.0.3) (3.7.1)\n",
            "Requirement already satisfied: websocket-client in /usr/local/lib/python3.10/dist-packages (from jupyter-server>=1.8->nbclassic>=0.4.7->notebook>=4.4.1->widgetsnbextension~=3.6.0->ipywidgets->vibecheck==0.0.3) (1.7.0)\n",
            "Requirement already satisfied: cffi>=1.0.1 in /usr/local/lib/python3.10/dist-packages (from argon2-cffi-bindings->argon2-cffi->notebook>=4.4.1->widgetsnbextension~=3.6.0->ipywidgets->vibecheck==0.0.3) (1.16.0)\n",
            "Requirement already satisfied: soupsieve>1.2 in /usr/local/lib/python3.10/dist-packages (from beautifulsoup4->nbconvert>=5->notebook>=4.4.1->widgetsnbextension~=3.6.0->ipywidgets->vibecheck==0.0.3) (2.5)\n",
            "Requirement already satisfied: webencodings in /usr/local/lib/python3.10/dist-packages (from bleach->nbconvert>=5->notebook>=4.4.1->widgetsnbextension~=3.6.0->ipywidgets->vibecheck==0.0.3) (0.5.1)\n",
            "Requirement already satisfied: sniffio>=1.1 in /usr/local/lib/python3.10/dist-packages (from anyio<4,>=3.1.0->jupyter-server>=1.8->nbclassic>=0.4.7->notebook>=4.4.1->widgetsnbextension~=3.6.0->ipywidgets->vibecheck==0.0.3) (1.3.0)\n",
            "Requirement already satisfied: exceptiongroup in /usr/local/lib/python3.10/dist-packages (from anyio<4,>=3.1.0->jupyter-server>=1.8->nbclassic>=0.4.7->notebook>=4.4.1->widgetsnbextension~=3.6.0->ipywidgets->vibecheck==0.0.3) (1.2.0)\n",
            "Requirement already satisfied: pycparser in /usr/local/lib/python3.10/dist-packages (from cffi>=1.0.1->argon2-cffi-bindings->argon2-cffi->notebook>=4.4.1->widgetsnbextension~=3.6.0->ipywidgets->vibecheck==0.0.3) (2.21)\n",
            "Building wheels for collected packages: datatops, vibecheck, lit\n",
            "  Building wheel for datatops (setup.py) ... \u001b[?25l\u001b[?25hdone\n",
            "  Created wheel for datatops: filename=datatops-0.2.2-py3-none-any.whl size=11917 sha256=cbe67932044a6608b4c78f4016b2f8d8f02912cf2a5456f1132fb39a71bce704\n",
            "  Stored in directory: /root/.cache/pip/wheels/80/12/fd/b7d1812c81de9ba8c16b06a24a463ddab9f3f953c0699f82c4\n",
            "  Building wheel for vibecheck (setup.py) ... \u001b[?25l\u001b[?25hdone\n",
            "  Created wheel for vibecheck: filename=vibecheck-0.0.3-py3-none-any.whl size=2597 sha256=0abba0fe777098863b91c902d709860c6fefbcda24a61406484c5ff70aba534e\n",
            "  Stored in directory: /root/.cache/pip/wheels/08/a1/5f/0883198acfc688157ef912e1db80437bec376801ee13f6d55b\n",
            "  Building wheel for lit (pyproject.toml) ... \u001b[?25l\u001b[?25hdone\n",
            "  Created wheel for lit: filename=lit-17.0.6-py3-none-any.whl size=93255 sha256=fd8f327ab211a02834fdedf070f4981c4e0ba918155b4fee5530a2d98577b094\n",
            "  Stored in directory: /root/.cache/pip/wheels/30/dd/04/47d42976a6a86dc2ab66d7518621ae96f43452c8841d74758a\n",
            "Successfully built datatops vibecheck lit\n",
            "Installing collected packages: lit, portalocker, nvidia-nvtx-cu11, nvidia-nccl-cu11, nvidia-cusparse-cu11, nvidia-curand-cu11, nvidia-cufft-cu11, nvidia-cuda-runtime-cu11, nvidia-cuda-nvrtc-cu11, nvidia-cuda-cupti-cu11, nvidia-cublas-cu11, jedi, nvidia-cusolver-cu11, nvidia-cudnn-cu11, datatops, vibecheck, triton, torch, torchdata, torchtext\n",
            "  Attempting uninstall: triton\n",
            "    Found existing installation: triton 2.1.0\n",
            "    Uninstalling triton-2.1.0:\n",
            "      Successfully uninstalled triton-2.1.0\n",
            "  Attempting uninstall: torch\n",
            "    Found existing installation: torch 2.1.0+cu118\n",
            "    Uninstalling torch-2.1.0+cu118:\n",
            "      Successfully uninstalled torch-2.1.0+cu118\n",
            "  Attempting uninstall: torchdata\n",
            "    Found existing installation: torchdata 0.7.0\n",
            "    Uninstalling torchdata-0.7.0:\n",
            "      Successfully uninstalled torchdata-0.7.0\n",
            "  Attempting uninstall: torchtext\n",
            "    Found existing installation: torchtext 0.16.0\n",
            "    Uninstalling torchtext-0.16.0:\n",
            "      Successfully uninstalled torchtext-0.16.0\n",
            "\u001b[31mERROR: pip's dependency resolver does not currently take into account all the packages that are installed. This behaviour is the source of the following dependency conflicts.\n",
            "torchaudio 2.1.0+cu118 requires torch==2.1.0, but you have torch 2.0.0 which is incompatible.\n",
            "torchvision 0.16.0+cu118 requires torch==2.1.0, but you have torch 2.0.0 which is incompatible.\u001b[0m\u001b[31m\n",
            "\u001b[0mSuccessfully installed datatops-0.2.2 jedi-0.19.1 lit-17.0.6 nvidia-cublas-cu11-11.10.3.66 nvidia-cuda-cupti-cu11-11.7.101 nvidia-cuda-nvrtc-cu11-11.7.99 nvidia-cuda-runtime-cu11-11.7.99 nvidia-cudnn-cu11-8.5.0.96 nvidia-cufft-cu11-10.9.0.58 nvidia-curand-cu11-10.2.10.91 nvidia-cusolver-cu11-11.4.0.1 nvidia-cusparse-cu11-11.7.4.91 nvidia-nccl-cu11-2.14.3 nvidia-nvtx-cu11-11.7.91 portalocker-2.7.0 torch-2.0.0 torchdata-0.6.0 torchtext-0.15.1 triton-2.0.0 vibecheck-0.0.3\n"
          ]
        }
      ],
      "source": [
        "!pip3 install torch torchtext==0.15.1 matplotlib numpy datatops==0.2.2 portalocker==2.7.0 vibecheck==0.0.3"
      ]
    },
    {
      "cell_type": "code",
      "execution_count": 3,
      "metadata": {
        "id": "m2IjHu10jg25",
        "outputId": "c03bdac3-0f01-428b-d14f-4c1da66282fd",
        "colab": {
          "base_uri": "https://localhost:8080/",
          "height": 321
        }
      },
      "outputs": [
        {
          "output_type": "execute_result",
          "data": {
            "text/plain": [
              "<IPython.lib.display.YouTubeVideo at 0x7d4db67b48e0>"
            ],
            "text/html": [
              "\n",
              "        <iframe\n",
              "            width=\"400\"\n",
              "            height=\"300\"\n",
              "            src=\"https://www.youtube.com/embed/rqe7P2A1gL4\"\n",
              "            frameborder=\"0\"\n",
              "            allowfullscreen\n",
              "            \n",
              "        ></iframe>\n",
              "        "
            ],
            "image/jpeg": "[encoded data removed]"
          },
          "metadata": {},
          "execution_count": 3
        }
      ],
      "source": [
        "from IPython.display import YouTubeVideo\n",
        "YouTubeVideo('rqe7P2A1gL4')"
      ]
    },
    {
      "cell_type": "code",
      "execution_count": 4,
      "metadata": {
        "id": "KVID2YRwjg26"
      },
      "outputs": [],
      "source": [
        "# @markdown What is your Pennkey and pod? (text, not numbers, e.g. bfranklin)\n",
        "my_pennkey = \"pawan\"  # @param {type:\"string\"}\n",
        "my_pod = \"pal\"  # @param {type:\"string\"}\n",
        "my_email = \"akkip9@gmail.com \"  # @param {type:\"string\"}\n",
        "tutorial = \"W10D1\""
      ]
    },
    {
      "cell_type": "code",
      "execution_count": 5,
      "metadata": {
        "id": "Ck9QRb24jg27"
      },
      "outputs": [],
      "source": [
        "# @title Feedback setup (run this cell)\n",
        "\n",
        "# Feedback with Datatops\n",
        "from vibecheck import DatatopsContentReviewContainer\n",
        "from datatops import Datatops\n",
        "\n",
        "feedback_dtid = \"62a48t3w\"\n",
        "feedback_name = \"cis522_feedback\"\n",
        "quiz_dtid = \"lxx8szk1\"\n",
        "quiz_name = \"cis522_quiz\"\n",
        "dt_url = \"https://pmyvdlilci.execute-api.us-east-1.amazonaws.com/klab/\"\n",
        "\n",
        "# Instantiate the Datatops client\n",
        "dt = Datatops(dt_url)\n",
        "quizdt = dt.get_project(quiz_name, user_key=quiz_dtid)\n"
      ]
    },
    {
      "cell_type": "code",
      "execution_count": 6,
      "metadata": {
        "id": "yJr1vGDPjg28"
      },
      "outputs": [],
      "source": [
        "import numpy as np\n",
        "import torch\n",
        "import torch.nn as nn\n",
        "import torch.nn.functional as F\n",
        "\n",
        "torch.manual_seed(522)\n",
        "device = torch.device(\"cuda:0\" if torch.cuda.is_available() else \"cpu\")"
      ]
    },
    {
      "cell_type": "code",
      "execution_count": 7,
      "metadata": {
        "id": "vDlJTfnljg29",
        "outputId": "416ef599-01f8-40a6-c2a1-2a0e10ecea29",
        "colab": {
          "base_uri": "https://localhost:8080/",
          "height": 321
        }
      },
      "outputs": [
        {
          "output_type": "execute_result",
          "data": {
            "text/plain": [
              "<IPython.lib.display.YouTubeVideo at 0x7d4db67b69e0>"
            ],
            "text/html": [
              "\n",
              "        <iframe\n",
              "            width=\"400\"\n",
              "            height=\"300\"\n",
              "            src=\"https://www.youtube.com/embed/ELRVHvQdXHs\"\n",
              "            frameborder=\"0\"\n",
              "            allowfullscreen\n",
              "            \n",
              "        ></iframe>\n",
              "        "
            ],
            "image/jpeg": "[encoded data removed]"
          },
          "metadata": {},
          "execution_count": 7
        }
      ],
      "source": [
        "from IPython.display import YouTubeVideo\n",
        "YouTubeVideo('ELRVHvQdXHs')"
      ]
    },
    {
      "cell_type": "markdown",
      "metadata": {
        "id": "R62xb7Vujg29"
      },
      "source": [
        "\n",
        "# Attention\n",
        "\n",
        "Last week, we discussed natural language processing and the state of the art circa the early 2010s. In this tutorial, we will discuss the attention mechanism and how it can be used to improve the performance of a neural network, and we will implement attention and Transformer models.\n",
        "\n",
        "\n",
        "---\n",
        "\n",
        "Previously, we discussed an encoder-decoder architecture based on two RNNs for sequence to sequence learning. Specifically, the RNN encoder transforms a variable-length sequence into a fixed-shape context variable, then the RNN decoder generates the output (target) sequence token by token based on the generated tokens and the context variable. However, even though not all the input (source) tokens are useful for decoding a certain token, the same context variable that encodes the entire input sequence is still used at each decoding step. It is challenging for the models to deal with long sentences.\n",
        "\n",
        "In [Bahdanau et al., 2014], the authors proposed a technique called attention. When predicting a token, if not all the input tokens are relevant, the model aligns (or attends) only to parts of the input sequence that are relevant to the current prediction.\n",
        "\n",
        "<img width=\"733\" alt=\"image\" src=\"https://user-images.githubusercontent.com/693511/226738862-12a6199e-f204-4e9b-8af5-2a23a946802c.png\">\n",
        "\n",
        "<small>An example of attention matrix. Taken from [arxiv.1409.0473]. Don't worry too much about how we derived this just yet!</small>\n"
      ]
    },
    {
      "cell_type": "markdown",
      "metadata": {
        "id": "Bd4AiVKRjg3B"
      },
      "source": [
        "## 1.a: Computing attention\n",
        "\n",
        "To calculate the attention mechanism we make use of Queries, Keys and Values. These tensors are each a transformation of the input vector:\n",
        "\n",
        "In an attention mechanism the context vector is computed as a weighted sum of values, where the weight assigned to each value is computed through an attention score. The score is usually the dot product between the query and key. The scores then go through the softmax function to yield a set of weights whose sum equals 1 — in other words, the weights are normalized so that every target token is assigned a \"how much does this token matter\" value for each output token.\n",
        "\n",
        "The query is from the decoder hidden state whereas the key and value are from the encoder hidden state.\n",
        "\n",
        "Take a minute and look at this article. It has detailed graphical explanation on how to calculate attention scores.\n",
        "https://towardsdatascience.com/illustrated-self-attention-2d627e33b20a\n",
        "\n",
        "Attention mechanisms in machine learning have three components:\n",
        "\n",
        " - the query Q (an embedding of the target word)\n",
        " - the keys K (an embedding of the source words)\n",
        " - the values V (a function of K... you can think of these as the database lookup values that correspond to K)\n",
        "\n",
        "Generally the number and dimensionality of queries and values can all be different.\n",
        "\n",
        "### The attention algorithm\n",
        "\n",
        "To give a concrete example, let's imagine a simple, single-sentence document. When I look at a sentence and see a word $q$, I want to know which word $k$ in the document is most relevant to understand what $q$ means. In other words, given a \"database\" of key-value pairs, I want to find the [set of] keys that best match my query.\n",
        "\n",
        "We'll start by constructing a query vector space $Q = $X \\dot W_Q^T$ where $X$ is the input sequence (i.e., our starting sentence that has been tokenized and embedded) and $W_Q$ is a matrix of weights that we'll learn.\n",
        "\n",
        "Next, we'll think of each word in the sentence as keys that we can use to \"look up\" the answer to our query; mathematically, we'll do the same as the above for the keys $K = X \\dot W_K^T$, and the value tensor $V = X \\dot W_V^T$.\n",
        "\n",
        "For each pair of words $(q, k)$, we'll compute a score $s(q, k)$ that tells us how relevant $k$ is to $q$. We'll do this by taking the dot product of the query and key vectors, $Q \\cdot K^T$.\n",
        "\n",
        "Finally, we can compute the final output of our attention head; $A = softmax(s(Q, K)) \\cdot V$. This is the weighted sum of the values, where the weights are the attention scores.\n",
        "\n",
        "\n",
        "We don't know ahead of time what $Q$, $K$, $V$ should be; we'll learn the weights from the data via backpropagation.\n",
        "\n",
        "\n",
        "In general, we'll use existing packages to implement attention. However, it's important to understand the code behind the magic, so we'll implement a simple attention mechanism in the next section using PyTorch."
      ]
    },
    {
      "cell_type": "markdown",
      "metadata": {
        "id": "7divTmbYjg3C"
      },
      "source": [
        "## Quiz!\n",
        "\n",
        "Are you still with us? This was a complicated concept! Test your knowledge and intuitions about the algorithm so far. Feel free to play with the code below and come back to these questions after manipulating the attention block!\n",
        "\n",
        "**We compute `embed_K(\"dog\")` and `embed_Q(\"dog\")`, and then take the dot-product. If you take the dot product of two identical vectors, you should get out 1.0. Why don't we get 1.0 when we take the dot product of these two embeddings of the same word?**"
      ]
    },
    {
      "cell_type": "code",
      "execution_count": 9,
      "metadata": {
        "id": "4oRivAs1jg3C"
      },
      "outputs": [],
      "source": [
        "why_k_embed_q_embed = \"tashu\" #@param {type:\"string\"}"
      ]
    },
    {
      "cell_type": "code",
      "execution_count": 10,
      "metadata": {
        "id": "2WeSEWWqjg3D",
        "outputId": "8584fea7-4462-4deb-ed21-aadf2a1e3aec",
        "colab": {
          "base_uri": "https://localhost:8080/",
          "height": 81,
          "referenced_widgets": [
            "10065d08caa44f9583826368eebd5a54",
            "7167bd4eefad4bd2822469bf50b37902",
            "223f4c5d1e2248f6a6976bc595383890",
            "59699e1665824367841c74945677295d",
            "75a52e10032f4bbfad7f2585eb32339a",
            "d221a4692d6f459d8736295b08ccab74",
            "7c7f43c5177c4c03a4f2700be7067d96",
            "00ab7bb2433a45c5b8246be4dbbdc14e",
            "1620a3aa642a43a68bcaeadc15c20ff6",
            "539f1eccd531478cb78a442d4cc9b2bb",
            "364668ccaa8b4bd79e187c63ae08623a",
            "ceaa5f58d14a4c8bab518e566d3067fe",
            "c74083faf7e64aa988653050536e9b93",
            "bbbefefc40444b97877cd6d6f7617786",
            "2b16779dd3274a57ae1592e827910cb8",
            "45f2492103b44402b1d2a065cd76880b",
            "529dcbe914b542e89ae2081c37fe95c3",
            "3cb4279326414205a3c6b04a5b74710c",
            "045badb7fc394340b520000bc5fca8b4",
            "6bb363f8f961458685dd58b959e87b18",
            "3668eb347c504288a58dea7c60ed56d3",
            "dfdc6847860f42d0a551e7c091df25e0",
            "82fa046d017f4ffebb0763bfcb6675d3",
            "aefbb44bbd8146efa52f09fafa86c5dd",
            "d3b6c5c18d344ba1b382a358d212854f",
            "191de8cd6bd9436aaa944738054efcf8",
            "aba0ae2114c8458e9669836dcdbfee15"
          ]
        }
      },
      "outputs": [
        {
          "output_type": "display_data",
          "data": {
            "text/plain": [
              "VBox(children=(Label(value=''), HBox(children=(Button(description='🙂', layout=Layout(height='auto', width='aut…"
            ],
            "application/vnd.jupyter.widget-view+json": {
              "version_major": 2,
              "version_minor": 0,
              "model_id": "10065d08caa44f9583826368eebd5a54"
            }
          },
          "metadata": {}
        }
      ],
      "source": [
        "#@title .\n",
        "DatatopsContentReviewContainer(\n",
        "    \"\",\n",
        "    \"W10D1_Attention\",\n",
        "    {\n",
        "        \"url\": dt_url,\n",
        "        \"name\": feedback_name,\n",
        "        \"user_key\": feedback_dtid,\n",
        "    }\n",
        ").render()"
      ]
    },
    {
      "cell_type": "code",
      "execution_count": 11,
      "metadata": {
        "id": "wNYZa1-Yjg3E",
        "outputId": "6352b29a-950d-4bb8-e031-d769119bb23a",
        "colab": {
          "base_uri": "https://localhost:8080/",
          "height": 240
        }
      },
      "outputs": [
        {
          "output_type": "execute_result",
          "data": {
            "text/plain": [
              "<IPython.core.display.HTML object>"
            ],
            "text/html": [
              "<video src=https://jalammar.github.io/images/seq2seq_7.mp4 width=500 controls/>"
            ]
          },
          "metadata": {},
          "execution_count": 11
        }
      ],
      "source": [
        "#@title Run this if above link is broken\n",
        "\n",
        "url = \"https://jalammar.github.io/images/seq2seq_7.mp4\"\n",
        "from IPython.display import HTML\n",
        "HTML(f\"\"\"<video src={url} width=500 controls/>\"\"\")"
      ]
    },
    {
      "cell_type": "code",
      "execution_count": 12,
      "metadata": {
        "id": "cEl3c5-qjg3E"
      },
      "outputs": [],
      "source": [
        "# Download the IMDB sentiment analysis dataset using PyTorch + torchtext\n",
        "# https://pytorch.org/text/stable/datasets.html#imdb\n",
        "from torchtext.datasets import IMDB\n",
        "from torch.utils.data import DataLoader\n",
        "\n",
        "_BATCH_SIZE = 32\n",
        "train_data, test_data = IMDB(split=(\"train\", \"test\"))\n",
        "\n",
        "# Create a vocabulary from the training data\n",
        "from torchtext.vocab import build_vocab_from_iterator\n",
        "from torchtext.data.utils import get_tokenizer\n",
        "\n",
        "tokenizer = get_tokenizer(\"basic_english\")\n",
        "vocab = build_vocab_from_iterator(\n",
        "    map(lambda x: tokenizer(x[1]), train_data), specials=[\"<unk>\", \"<pad>\"]\n",
        ")\n",
        "\n",
        "# Add the labels to the vocabulary\n",
        "vocab.set_default_index(vocab[\"<unk>\"])\n",
        "\n",
        "# Create the data loaders\n",
        "from torchtext.data.functional import to_map_style_dataset\n",
        "from torch.nn.utils.rnn import pad_sequence\n",
        "\n",
        "\n",
        "def generate_batch(batch, sentence_length=_BATCH_SIZE):\n",
        "    label_list, text_list = [], []\n",
        "    for _label, _text in batch:\n",
        "        label_list.append(_label)\n",
        "        processed_text = torch.tensor([vocab[token] for token in tokenizer(_text)])\n",
        "        processed_text = torch.cat(\n",
        "            [\n",
        "                processed_text,\n",
        "                torch.tensor(\n",
        "                    [vocab[\"<pad>\"]] * (sentence_length - len(processed_text))\n",
        "                ),\n",
        "            ]\n",
        "        ).long()\n",
        "        text_list.append(processed_text)\n",
        "    label_list = torch.tensor(label_list)\n",
        "    # Pad the text sequences, guarantee that all sequences are of the same length\n",
        "    text_list = pad_sequence(text_list, batch_first=True, padding_value=vocab[\"<pad>\"])\n",
        "    # Truncate the text sequences\n",
        "    text_list = text_list[:, :sentence_length]\n",
        "    return (label_list, text_list)\n",
        "\n",
        "\n",
        "train_iter = DataLoader(\n",
        "    to_map_style_dataset(train_data),\n",
        "    batch_size=_BATCH_SIZE,\n",
        "    shuffle=True,\n",
        "    collate_fn=generate_batch,\n",
        "    drop_last=True,\n",
        ")\n",
        "test_iter = DataLoader(\n",
        "    to_map_style_dataset(test_data),\n",
        "    batch_size=_BATCH_SIZE,\n",
        "    shuffle=True,\n",
        "    collate_fn=generate_batch,\n",
        "    drop_last=True,\n",
        ")\n"
      ]
    },
    {
      "cell_type": "markdown",
      "metadata": {
        "id": "TtqTgz32jg3F"
      },
      "source": [
        "## Positional Encoding\n",
        "\n",
        "Attn doesn't preserve sequence. It only counts importance, not the relation or order. And order matters in language!\n",
        "\n",
        "Using varying frequencies of sine and cosine functions of different frequencies, we can create a vector that encodes the relative position of a token in a sequence that lets the neural network decide for itself which frequencies it cares about alongside the other features it's learning."
      ]
    },
    {
      "cell_type": "code",
      "execution_count": 13,
      "metadata": {
        "id": "7vpP6rQgjg3F",
        "outputId": "c400781a-1833-4a3b-ce11-e65f31a9b3d7",
        "colab": {
          "base_uri": "https://localhost:8080/",
          "height": 518
        }
      },
      "outputs": [
        {
          "output_type": "stream",
          "name": "stdout",
          "text": [
            "Video available at https://youtube.com/watch?v=FoRWkEAJDtg\n"
          ]
        },
        {
          "output_type": "execute_result",
          "data": {
            "text/plain": [
              "<IPython.lib.display.YouTubeVideo at 0x7d4cf5992dd0>"
            ],
            "text/html": [
              "\n",
              "        <iframe\n",
              "            width=\"854\"\n",
              "            height=\"480\"\n",
              "            src=\"https://www.youtube.com/embed/FoRWkEAJDtg?fs=1\"\n",
              "            frameborder=\"0\"\n",
              "            allowfullscreen\n",
              "            \n",
              "        ></iframe>\n",
              "        "
            ],
            "image/jpeg": "[encoded data removed]"
          },
          "metadata": {},
          "execution_count": 13
        }
      ],
      "source": [
        "#@title Video : Positional Encoding\n",
        "from IPython.display import YouTubeVideo\n",
        "video = YouTubeVideo(id=\"FoRWkEAJDtg\", width=854, height=480, fs=1)\n",
        "print(\"Video available at https://youtube.com/watch?v=\" + video.id)\n",
        "\n",
        "import time\n",
        "try: t0;\n",
        "except NameError: t0=time.time()\n",
        "\n",
        "video"
      ]
    },
    {
      "cell_type": "code",
      "execution_count": 14,
      "metadata": {
        "id": "vPR8OBUPjg3G",
        "outputId": "2e5c76be-4be8-458a-ae14-05a15949170b",
        "colab": {
          "base_uri": "https://localhost:8080/",
          "height": 448
        }
      },
      "outputs": [
        {
          "output_type": "execute_result",
          "data": {
            "text/plain": [
              "<matplotlib.image.AxesImage at 0x7d4cf5993670>"
            ]
          },
          "metadata": {},
          "execution_count": 14
        },
        {
          "output_type": "display_data",
          "data": {
            "text/plain": [
              "<Figure size 640x480 with 1 Axes>"
            ],
            "image/png": "[encoded data removed]"
          },
          "metadata": {}
        }
      ],
      "source": [
        "from matplotlib import pyplot as plt\n",
        "\n",
        "\n",
        "class PositionalEncoder(nn.Module):\n",
        "    def __init__(self, embed_dim, max_len=1000):\n",
        "        super().__init__()\n",
        "        self.position_embedding = torch.zeros((1, max_len, embed_dim))\n",
        "        i = torch.arange(max_len, dtype=torch.float32).reshape(-1, 1)\n",
        "        j2 = torch.arange(0, embed_dim, step=2, dtype=torch.float32)\n",
        "        x = i / torch.pow(10000, j2 / embed_dim)\n",
        "        self.position_embedding[..., 0::2] = torch.sin(x)\n",
        "        self.position_embedding[..., 1::2] = torch.cos(x)\n",
        "\n",
        "    def forward(self, x):\n",
        "        x_plus_p = x + self.position_embedding[:, : x.shape[1]]\n",
        "        return x_plus_p\n",
        "\n",
        "\n",
        "\n",
        "n_tokens, embed_dim = 40, 40\n",
        "pos_enc = PositionalEncoder(embed_dim)\n",
        "p = pos_enc(torch.zeros((1, n_tokens, embed_dim)))\n",
        "plt.imshow(p.squeeze())\n"
      ]
    },
    {
      "cell_type": "code",
      "execution_count": 15,
      "metadata": {
        "id": "letxoQz_jg3G",
        "outputId": "55e99c15-0950-42e1-b03b-30fd276580b1",
        "colab": {
          "base_uri": "https://localhost:8080/",
          "height": 81,
          "referenced_widgets": [
            "098fdb29d7c444a199fcdb19bfe61817",
            "7ffc49bcce5b47578d8e00afae4a9804",
            "0c08b0198ec348a0ac829de5607b9253",
            "776f9601272d46c5aab934d016c7cf69",
            "b8e8ba1cadd54ec2b1d3184623e1e57f",
            "a23a08eef7db4f6483e59ef90c2788d8",
            "5a4787ad232e47eaaa5a743ecfefad7e",
            "9b12212405ab4e4eaebfcf3ae179d5eb",
            "bfa47d31715a47879d633930d78faad6",
            "5519a772bf514e1ca416a534f1450469",
            "b56a18deb61f4c67a27655eeb65dbf10",
            "067d5662703a4b3b8e6dfcaf096c8983",
            "8973baa12f4946e696b063012dafc9b8",
            "802c999c42174bbd896b119b67a7e2b8",
            "1e6006f81360404ba1308b57d0792bf2",
            "ff5094de8bab44b185b7507878a05df0",
            "0b551afec01c49c79a181b4ca65ae957",
            "2600b545f1e84d709b5485dda360c4c1",
            "7fa25512007f44c19706642635e3dc6e",
            "9d51153ecaa54af4af90d51ddb0737f8",
            "02236b47861845f49ba6359a7d7d02e6",
            "42d89327fd3c449eacf6558cc27938b3",
            "f423dbde44444c5695861d01b905f735",
            "8a903b994ddc43b899f4d800e95b5f17",
            "bd0ed6f3e3bc423597f6d4853caa4101",
            "8b97eb9193b54a4087a66eb6e22d6f4d",
            "25f81083d5a34c3e9e4dd06bddb616dd"
          ]
        }
      },
      "outputs": [
        {
          "output_type": "display_data",
          "data": {
            "text/plain": [
              "VBox(children=(Label(value=''), HBox(children=(Button(description='🙂', layout=Layout(height='auto', width='aut…"
            ],
            "application/vnd.jupyter.widget-view+json": {
              "version_major": 2,
              "version_minor": 0,
              "model_id": "098fdb29d7c444a199fcdb19bfe61817"
            }
          },
          "metadata": {}
        }
      ],
      "source": [
        "#@title .\n",
        "DatatopsContentReviewContainer(\n",
        "    \"\",\n",
        "    \"W10D1_PositionalEncoding\",\n",
        "    {\n",
        "        \"url\": dt_url,\n",
        "        \"name\": feedback_name,\n",
        "        \"user_key\": feedback_dtid,\n",
        "    }\n",
        ").render()"
      ]
    },
    {
      "cell_type": "markdown",
      "metadata": {
        "id": "dHvWrw2ajg3G"
      },
      "source": [
        "---\n",
        "\n",
        "---\n",
        "\n",
        "\n",
        "# Transformers\n",
        "\n",
        "Take a deep breath. It is finally time to apply everything we have learned in the last three notebooks — it's Transformers time!\n",
        "\n",
        "Like CNNs, the term \"Transformer\" refers not to a specific architecture, but a _style_ of architecture. And this base model architecture has been the foundation of many very successful models, some of which you may be using right now to write your answers to this notebook, and others of which you might be asking to make you reservations at a restaurant tonight. It has seen tremendous use in the NLP space, and there have been effforts to extend it to the audio and visual domains as well. The original paper that explained the Transformer architecture had the rather aggressive title, \"Attention is all you need\" — but so far, it has proven to be more correct than many expected!\n",
        "\n",
        "[Attention Is All You Need (Vaswani et al. 2017)](https://arxiv.org/abs/1706.03762), is very readable and you are encouraged to take a look.\n",
        "\n",
        "The Transformer model is fundamentally an encoder-decoder model that operates on sequences of tokens. Both the encoder and decoder components are composed of stacks of submodules that use **only** attention mechanisms and linear weights to learn (there are no CNNs or RNNs). The architecture schematic looks like the following:\n",
        "\n",
        "![transformer architecture](https://d2l.ai/_images/transformer.svg)\n",
        "\n",
        "Let's break this down, because while the architecture can seem very daunting, you now know all the pieces that go into it!\n",
        "\n",
        "* An encoder/decoder network is familiar territory; we've written autoencoders before, and used this style of model extensively for image generation in a previous week.\n",
        "* Positional encoding: We wrote this from scratch just now!\n",
        "* Sequences of tokens? We not only know what that looks like — we've written our own tokenizers!\n",
        "* Attention is the trickiest piece, but we've implemented it from scratch above. Nothing scary here!\n",
        "\n",
        "In the rest of this section we will be going over the various building blocks that go into Transformers. The emphasis is on understanding what all the pieces do and how they fit together, so while we _will_ train a transformer in this notebook, you should not expect it to write your homework any time soon.\n",
        "\n",
        "*Note:* Many of the images in this section are taken from Dive Into Deep Learning's chapter on [Attention Mechanisms](https://d2l.ai/chapter_attention-mechanisms/index.html). You are encouraged to check that out for additional details and implementations."
      ]
    },
    {
      "cell_type": "code",
      "execution_count": null,
      "metadata": {
        "id": "6S8-riqCjg3G"
      },
      "outputs": [],
      "source": [
        "from IPython.display import YouTubeVideo\n",
        "YouTubeVideo('Adh2ldd1oIQ')"
      ]
    },
    {
      "cell_type": "markdown",
      "metadata": {
        "id": "OWb1Eh1Zjg3H"
      },
      "source": [
        "### Self-Attention\n",
        "\n",
        "Transformers make use of something called self-attention as a critical component to the entire operation. What does that mean in the context of attention mechanisms? If you recall, attention mechanisms in machine learning have three components:\n",
        "\n",
        " - the values V (the things you perceive i.e. model inputs)\n",
        " - the query Q (the thing you want to attend to)\n",
        " - the keys K (a mapping between queries and values)\n",
        "\n",
        "Generally the number and dimensionality of queries and values can all be different. In self-attention, the queries, keys, and values are all drawn from the same set of inputs. In other words, we don't need to specify anything about what and how queries and keys are formed, as they come straight from the data just like the values!\n",
        "\n",
        "Take a minute and check out the following article; It has detailed graphical explanation on how to calculate attention scores\n",
        "https://towardsdatascience.com/illustrated-self-attention-2d627e33b20a\n",
        "\n",
        "Ok, so we know that our queries, keys, and values come from our input sequence, but which attention mechanism should we use?"
      ]
    },
    {
      "cell_type": "code",
      "execution_count": 16,
      "metadata": {
        "id": "QBtMINxbjg3H",
        "outputId": "810389d9-53eb-449f-9a22-1ad75a30a038",
        "colab": {
          "base_uri": "https://localhost:8080/",
          "height": 518
        }
      },
      "outputs": [
        {
          "output_type": "stream",
          "name": "stdout",
          "text": [
            "Video available at https://youtube.com/watch?v=VtaGIp_9j1w\n"
          ]
        },
        {
          "output_type": "execute_result",
          "data": {
            "text/plain": [
              "<IPython.lib.display.YouTubeVideo at 0x7d4cf5992410>"
            ],
            "text/html": [
              "\n",
              "        <iframe\n",
              "            width=\"854\"\n",
              "            height=\"480\"\n",
              "            src=\"https://www.youtube.com/embed/VtaGIp_9j1w?fs=1\"\n",
              "            frameborder=\"0\"\n",
              "            allowfullscreen\n",
              "            \n",
              "        ></iframe>\n",
              "        "
            ],
            "image/jpeg": "[encoded data removed]"
          },
          "metadata": {},
          "execution_count": 16
        }
      ],
      "source": [
        "### Masked Scaled Dot Product Attention\n",
        "#@title Video : Masking\n",
        "from IPython.display import YouTubeVideo\n",
        "video = YouTubeVideo(id=\"VtaGIp_9j1w\", width=854, height=480, fs=1)\n",
        "print(\"Video available at https://youtube.com/watch?v=\" + video.id)\n",
        "\n",
        "video"
      ]
    },
    {
      "cell_type": "markdown",
      "metadata": {
        "id": "nFCpMcjtjg3H"
      },
      "source": [
        "#### Multi-Head Attention Module\n",
        "Next we will show you how to implement the forward method of a PyTorch module for handling the multi-head attention mechanism. Each of the Q, K, and V inputs need to be run through their corresponding linear layers and then transformed using `mha_transform_input`. You then pass these to our scaled dot product attention module, transform that output back using `mha_transform_output`, and then run that though the corresponding output linear layer.\n",
        "\n",
        "*NOTE:* In the original Transformers paper, the linear layers were just weight matrices with no bias term which is reproduced here by using `Linear` layers and setting bias to False."
      ]
    },
    {
      "cell_type": "code",
      "execution_count": 17,
      "metadata": {
        "id": "2DaCYV9_jg3I"
      },
      "outputs": [],
      "source": [
        "def masked_softmax(x, mask):\n",
        "    \"\"\"Applies softmax on a masked version of the input.\n",
        "    Args:\n",
        "      x (n_batch, n_tokens, t_tokens): - the scaled dot product of Q and K\n",
        "      mask (n_batch, n_tokens): - binary mask, all values = 0 will be set to -inf\n",
        "    Returns:\n",
        "      (n_batch, n_tokens, n_tokens): the result of applying softmax along the last\n",
        "        dimension of the masked input.\n",
        "    \"\"\"\n",
        "    return F.softmax(x.masked_fill_(mask.unsqueeze(1) == 0, float(\"-inf\")), dim=-1)\n",
        "\n",
        "\n",
        "def mha_transform_input(x, n_heads, head_dim):\n",
        "    \"\"\"Restructure the input tensors to compute the heads in parallel\n",
        "    Requires that head_dim = embed_dim / n_heads\n",
        "    Args:\n",
        "      x (n_batch, n_tokens, embed_dim): input tensor, one of queries, keys, or values\n",
        "      n_heads (int): the number of attention heads\n",
        "      head_dim (int): the dimensionality of each head\n",
        "    Returns:\n",
        "      (n_batch*n_heads, n_tokens, head_dim): 3D Tensor containing all the input heads\n",
        "    \"\"\"\n",
        "    n_batch, n_tokens, _ = x.shape\n",
        "    x = x.reshape((n_batch, n_tokens, n_heads, head_dim))\n",
        "    x = x.permute(0, 2, 1, 3)\n",
        "    return x.reshape((n_batch * n_heads, n_tokens, head_dim))\n",
        "\n",
        "\n",
        "def mha_transform_output(x, n_heads, head_dim):\n",
        "    \"\"\"Restructures the output back to the original format\n",
        "    Args:\n",
        "      x (n_bacth*n_heads, n_tokens, head_dim): multi-head representation tensor\n",
        "      n_heads (int): the number of attention heads\n",
        "      head_dim (int): the dimensionality of each head\n",
        "    Returns:\n",
        "      (n_batch, n_tokens, embed_dim): 3D Tensor containing all the input heads\n",
        "    \"\"\"\n",
        "    n_concat, n_tokens, _ = x.shape\n",
        "    n_batch = n_concat // n_heads\n",
        "    x = x.reshape((n_batch, n_heads, n_tokens, head_dim))\n",
        "    x = x.permute(0, 2, 1, 3)\n",
        "    return x.reshape((n_batch, n_tokens, n_heads * head_dim))\n",
        "\n",
        "\n",
        "class ScaledDotProductAttention(nn.Module):\n",
        "    def __init__(self, embed_dim):\n",
        "        super().__init__()\n",
        "        self.embed_dim = embed_dim\n",
        "\n",
        "    def forward(self, queries, keys, values, mask):\n",
        "        \"\"\"\n",
        "        Args:\n",
        "          queries (n_batch, n_tokens, embed_dim): queries (Q) tensor\n",
        "          keys (n_batch, n_tokens, embed_dim): keys (K) tensor\n",
        "          values (n_batch, n_tokens, embed_dim): values (V) tensor\n",
        "          mask (n_batch, n_tokens): binary mask tensor\n",
        "        Returns:\n",
        "          (n_batch, n_tokens, embed_dim): scaled dot product attention tensor\n",
        "        \"\"\"\n",
        "        scaled_dot_product = torch.bmm(queries, torch.transpose(keys, 1, 2)) / np.sqrt(\n",
        "            self.embed_dim\n",
        "        )\n",
        "        masked_softmax_scores = masked_softmax(scaled_dot_product, mask)\n",
        "        attention = torch.bmm(masked_softmax_scores, values)\n",
        "        return attention\n",
        "\n",
        "\n",
        "class MultiHeadAttention(nn.Module):\n",
        "    def __init__(self, n_heads, embed_dim):\n",
        "        super().__init__()\n",
        "        self.n_heads = n_heads\n",
        "        self.head_dim = embed_dim // n_heads\n",
        "\n",
        "        self.attention = ScaledDotProductAttention(embed_dim)\n",
        "        self.query_fc = nn.Linear(embed_dim, embed_dim, bias=False)\n",
        "        self.key_fc = nn.Linear(embed_dim, embed_dim, bias=False)\n",
        "        self.value_fc = nn.Linear(embed_dim, embed_dim, bias=False)\n",
        "        self.out_fc = nn.Linear(embed_dim, embed_dim, bias=False)\n",
        "\n",
        "    def forward(self, queries, keys, values, mask):\n",
        "        \"\"\"\n",
        "        Args:\n",
        "          queries (n_batch, n_tokens, embed_dim): queries (Q) tensor\n",
        "          keys (n_batch, n_tokens, embed_dim): keys (K) tensor\n",
        "          values (n_batch, n_tokens, embed_dim): values (V) tensor\n",
        "          mask (n_batch, n_tokens): binary mask tensor\n",
        "        Returns:\n",
        "          (n_batch, n_tokens, embed_dim): multi-head attention tensor\n",
        "        \"\"\"\n",
        "        q_heads = mha_transform_input(\n",
        "            self.query_fc(queries), self.n_heads, self.head_dim\n",
        "        )\n",
        "        k_heads = mha_transform_input(self.key_fc(keys), self.n_heads, self.head_dim)\n",
        "        v_heads = mha_transform_input(\n",
        "            self.value_fc(values), self.n_heads, self.head_dim\n",
        "        )\n",
        "\n",
        "        attention_heads = self.attention(q_heads, k_heads, v_heads, mask)\n",
        "        attention = self.out_fc(\n",
        "            mha_transform_output(attention_heads, self.n_heads, self.head_dim)\n",
        "        )\n",
        "        return attention\n"
      ]
    },
    {
      "cell_type": "code",
      "execution_count": 18,
      "metadata": {
        "id": "o4y6dCzbjg3I",
        "outputId": "e68a67ed-a976-4370-fa4a-fe0b63ac34b7",
        "colab": {
          "base_uri": "https://localhost:8080/",
          "height": 518
        }
      },
      "outputs": [
        {
          "output_type": "stream",
          "name": "stdout",
          "text": [
            "Video available at https://youtube.com/watch?v=_sKZpAptIZk\n"
          ]
        },
        {
          "output_type": "execute_result",
          "data": {
            "text/plain": [
              "<IPython.lib.display.YouTubeVideo at 0x7d4cf3022fb0>"
            ],
            "text/html": [
              "\n",
              "        <iframe\n",
              "            width=\"854\"\n",
              "            height=\"480\"\n",
              "            src=\"https://www.youtube.com/embed/_sKZpAptIZk?fs=1\"\n",
              "            frameborder=\"0\"\n",
              "            allowfullscreen\n",
              "            \n",
              "        ></iframe>\n",
              "        "
            ],
            "image/jpeg": "[encoded data removed]"
          },
          "metadata": {},
          "execution_count": 18
        }
      ],
      "source": [
        "#@title Video : Transformer Architecture\n",
        "from IPython.display import YouTubeVideo\n",
        "video = YouTubeVideo(id=\"_sKZpAptIZk\", width=854, height=480, fs=1)\n",
        "print(\"Video available at https://youtube.com/watch?v=\" + video.id)\n",
        "\n",
        "video"
      ]
    },
    {
      "cell_type": "markdown",
      "metadata": {
        "id": "odtqJv-_jg3I"
      },
      "source": [
        "## The Architecture: Encoder\n",
        "\n",
        "We now have almost everything we need to assemble the full Transformer network. There are just two more modules we need to quickly discuss, and then we will get to putting them all together.\n",
        "\n",
        "Transformer architecture for reference:\n",
        "<div>\n",
        "<img src=\"https://d2l.ai/_images/transformer.svg\" width=\"275\"/>\n",
        "</div>\n",
        "\n",
        "First, there is the residual layer norm that appears after every other component. In all cases, this takes the output of the previous component, sums it with the input to that component (the residual connection), and then normalizes the result across the layer.\n",
        "\n",
        "Second is the positionwise feed forward network that appears after the attention components. It is a two layer fully connected module with a ReLU activation in between.\n",
        "\n",
        "These are provided for reference here. Note that dropout would normally be applied in various places in these modules during training, but we have omitted it for clarity."
      ]
    },
    {
      "cell_type": "code",
      "execution_count": 19,
      "metadata": {
        "id": "TlDd8lx4jg3I"
      },
      "outputs": [],
      "source": [
        "class ResidualNorm(nn.Module):\n",
        "    def __init__(self, embed_dim):\n",
        "        super().__init__()\n",
        "        self.norm = nn.LayerNorm(embed_dim)\n",
        "\n",
        "    def forward(self, x, residual):\n",
        "        return self.norm(x + residual)\n",
        "\n",
        "\n",
        "class Feedforward(nn.Module):\n",
        "    def __init__(self, embed_dim, hidden_dim):\n",
        "        super().__init__()\n",
        "        self.fc1 = nn.Linear(embed_dim, hidden_dim)\n",
        "        self.fc2 = nn.Linear(hidden_dim, embed_dim)\n",
        "\n",
        "    def forward(self, x):\n",
        "        return self.fc2(F.relu(self.fc1(x)))\n"
      ]
    },
    {
      "cell_type": "markdown",
      "metadata": {
        "id": "0QOzj7JDjg3J"
      },
      "source": [
        "Now that we have all the modules we need, we can begin assembling the bigger modules. First we will look at the Encoder Block. The actual encoder will be made up of some number of these stacked together."
      ]
    },
    {
      "cell_type": "markdown",
      "metadata": {
        "id": "FsSMzDnKjg3J"
      },
      "source": [
        "#### Exercise 1.1: Encoder Block Module\n",
        "In this exercise you will create the forward method of the PyTorch module representing the Encoder Block of the Transformer. The Encoder Block has the following architecture:\n",
        "1. a multi-head attention module using self-attention\n",
        "2. 1st residual layer norm\n",
        "3. feed-forward model\n",
        "4. 2nd residual layer norm\n"
      ]
    },
    {
      "cell_type": "code",
      "execution_count": 21,
      "metadata": {
        "id": "Tcs5RVdhjg3J"
      },
      "outputs": [],
      "source": [
        "class EncoderBlock(nn.Module):\n",
        "    def __init__(self, n_heads, embed_dim, hidden_dim):\n",
        "        super().__init__()\n",
        "        self.attention = MultiHeadAttention(n_heads, embed_dim)\n",
        "        self.norm1 = ResidualNorm(embed_dim)\n",
        "        self.feedforward = Feedforward(embed_dim, hidden_dim)\n",
        "        self.norm2 = ResidualNorm(embed_dim)\n",
        "\n",
        "    def forward(self, src_tokens, src_mask):\n",
        "        \"\"\"\n",
        "        Args:\n",
        "          src_tokens (n_batch, n_tokens, embed_dim): the source sequence\n",
        "          src_mask (n_batch, n_tokens): binary mask over the source\n",
        "        Returns:\n",
        "          (n_batch, n_tokens, embed_dim): the encoder state\n",
        "        \"\"\"\n",
        "        ####################################################################\n",
        "        # Fill in missing code below (...),\n",
        "        # then remove or comment the line below to test your function\n",
        "        raise NotImplementedError(\"EncoderBlock\")\n",
        "        ####################################################################\n",
        "        # First compute self-attention on the source tokens by passing them in\n",
        "        # as the queries, keys, and values to the attention module.\n",
        "        self_attention = ...\n",
        "        # Next compute the norm of the self-attention result with a residual\n",
        "        # connection from the source tokens\n",
        "        normed_attention = ...\n",
        "        # Pass the normed attention result through the feedforward component\n",
        "        ff_out = ...\n",
        "        # Finally compute the norm of the feedforward output with a residual\n",
        "        # connection from the normed attention output\n",
        "        out = ...\n",
        "        return out\n",
        "\n",
        "\n",
        "# Uncomment below to test your module\n",
        "# n_heads, batch_size, n_tokens, embed_dim, hidden_dim = 2, 1, 3, 4, 8\n",
        "# tokens = torch.normal(0, 1, (batch_size, n_tokens, embed_dim))\n",
        "# mask = torch.ones((batch_size, n_tokens))\n",
        "# encoder = EncoderBlock(n_heads, embed_dim, hidden_dim)\n",
        "# encoder(tokens, mask)"
      ]
    },
    {
      "cell_type": "markdown",
      "metadata": {
        "id": "EIgX69rhjg3J"
      },
      "source": [
        "Now that we have our Encoder Block, we can chain these together in a stack to get the full Encoder module. We will include the embedding layer and positional encoding step of the source tokens here as well. The input to this module then will be a tensor of a batch of token IDs and corresponding mask.\n",
        "\n",
        "For instance, if our entire corpus was the English sentence: `Cat sat on the mat` and we tokenized by word, our vocab size would be 5 as there are 4 unique words. Converting this sentence to IDs would be `[[0,1,2,3,4]]`.\n",
        "\n",
        "The code for the Encoder module is provided below."
      ]
    },
    {
      "cell_type": "code",
      "execution_count": 22,
      "metadata": {
        "id": "a6bE0ic6jg3J"
      },
      "outputs": [],
      "source": [
        "class Encoder(nn.Module):\n",
        "    def __init__(self, vocab_size, embed_dim, hidden_dim, n_heads, n_blocks):\n",
        "        super().__init__()\n",
        "        self.embedding = nn.Embedding(vocab_size, embed_dim)\n",
        "        self.positional_encoding = PositionalEncoder(embed_dim)\n",
        "        self.encoder_blocks = nn.ModuleList(\n",
        "            [EncoderBlock(n_heads, embed_dim, hidden_dim) for _ in range(n_blocks)]\n",
        "        )\n",
        "\n",
        "    def forward(self, src_tokens, src_mask):\n",
        "        x = self.embedding(src_tokens)\n",
        "        x = self.positional_encoding(x)\n",
        "        for block in self.encoder_blocks:\n",
        "            x = block(x, src_mask)\n",
        "        return x\n",
        "\n",
        "\n",
        "# Uncomment below to test your module\n",
        "# vocab_size = 5\n",
        "# n_blocks, n_heads, batch_size, embed_dim, hidden_dim = 10, 2, 1, 4, 8\n",
        "# enc = Encoder(vocab_size, embed_dim, hidden_dim, n_heads, n_blocks)\n",
        "# src_tokens = torch.IntTensor([[0, 1, 2, 3, 4]])\n",
        "# src_mask = torch.IntTensor([[1, 1, 1, 1, 1]])\n",
        "# enc(src_tokens, src_mask)"
      ]
    },
    {
      "cell_type": "markdown",
      "metadata": {
        "id": "zykpjuz9jg3J"
      },
      "source": [
        "### The Decoder\n",
        "\n",
        "Like the encoder, the decoder is made up of a stack of repeating Decoder Blocks. Decoder Blocks are similar to the Encoder ones with an additional multi-head attention component that doesn't use self-attention, but instead gets the queries from the decoder's self-attention component and the keys and values from the encoder's output."
      ]
    },
    {
      "cell_type": "markdown",
      "metadata": {
        "id": "KCtjAZ4Pjg3J"
      },
      "source": [
        "#### Exercise 1.2: Decoder Block Module\n",
        "In this exercise you will create the forward method of the PyTorch module representing the Decoder Block of the Transformer. The Decoder Block has the following architecture:\n",
        "1. a multi-head attention using self-attention\n",
        "2. 1st residual layer norm\n",
        "3. a 2nd multi-head attention that incorporates the encoder output\n",
        "4. 2nd residual layer norm\n",
        "5. feed-forward model\n",
        "6. 3rd residual layer norm"
      ]
    },
    {
      "cell_type": "code",
      "execution_count": 23,
      "metadata": {
        "id": "0eiflNztjg3K"
      },
      "outputs": [],
      "source": [
        "class DecoderBlock(nn.Module):\n",
        "    def __init__(self, n_heads, embed_dim, hidden_dim):\n",
        "        super().__init__()\n",
        "        self.self_attention = MultiHeadAttention(n_heads, embed_dim)\n",
        "        self.norm1 = ResidualNorm(embed_dim)\n",
        "        self.encoder_attention = MultiHeadAttention(n_heads, embed_dim)\n",
        "        self.norm2 = ResidualNorm(embed_dim)\n",
        "        self.feedforward = Feedforward(embed_dim, hidden_dim)\n",
        "        self.norm3 = ResidualNorm(embed_dim)\n",
        "\n",
        "    def forward(self, tgt_tokens, tgt_mask, encoder_state, src_mask):\n",
        "        \"\"\"\n",
        "        Args:\n",
        "          tgt_tokens (n_batch, n_tokens, embed_dim): the target sequence\n",
        "          tgt_mask (n_batch, n_tokens): binary mask over the target tokens\n",
        "          encoder_state (n_batch, n_tokens, embed_dim): the output of the encoder pass\n",
        "          src_mask (n_batch, n_tokens): binary mask over the source tokens\n",
        "        Returns:\n",
        "          (n_batch, n_tokens, embed_dim): the decoder state\n",
        "        \"\"\"\n",
        "        ####################################################################\n",
        "        # Fill in missing code below (...),\n",
        "        # then remove or comment the line below to test your function\n",
        "        raise NotImplementedError(\"DecoderBlock\")\n",
        "        ####################################################################\n",
        "        # First compute self-attention on the target tokens by passing them in\n",
        "        # as the queries, keys, and values to the attention module along with the\n",
        "        # target mask.\n",
        "        self_attention = ...\n",
        "        # Next compute the norm of the self-attention result with a residual\n",
        "        # connection from the target tokens\n",
        "        normed_self_attention = ...\n",
        "        # Compute the encoder attention by using the normed self-attention output as\n",
        "        # the queries and the encoder state as the keys and values along with the\n",
        "        # source mask.\n",
        "        encoder_attention = ...\n",
        "        # Next compute the norm of the encoder attention result with a residual\n",
        "        # connection from the normed self-attention\n",
        "        normed_encoder_attention = ...\n",
        "        # Pass the normed encoder attention result through the feedforward component\n",
        "        ff_out = ...\n",
        "        # Finally compute the norm of the feedforward output with a residual\n",
        "        # connection from the normed attention output\n",
        "        out = ...\n",
        "        return out\n",
        "\n",
        "\n",
        "# Uncomment below to test your module\n",
        "# n_heads, batch_size, n_tokens, embed_dim, hidden_dim = 2, 1, 3, 4, 8\n",
        "# tokens = torch.normal(0, 1, (batch_size, n_tokens, embed_dim))\n",
        "# src_mask = torch.ones((batch_size, n_tokens))\n",
        "# tgt_mask = torch.ones((batch_size, n_tokens))\n",
        "# encoder = EncoderBlock(n_heads, embed_dim, hidden_dim)\n",
        "# decoder = DecoderBlock(n_heads, embed_dim, hidden_dim)\n",
        "# encoder_state = encoder(tokens, src_mask)\n",
        "# decoder(tokens, tgt_mask, encoder_state, src_mask)"
      ]
    },
    {
      "cell_type": "markdown",
      "metadata": {
        "id": "6XMtWqh_jg3K"
      },
      "source": [
        "The Decoder module ends up just the same as the Encoder module with one key difference: the forward method needs to also accept the output of the encoder as well as the source token mask.\n",
        "\n",
        "For instance, let's assume we are doing a translation task and want to translate the English `Cat sat on the mat` into the French `Chat assis sur le tapis`. Out target vocab size is also 5 and would be similarly converted into IDs as `[[0,1,2,3,4]]`.\n",
        "\n",
        "The code for the Decoder module is presented below."
      ]
    },
    {
      "cell_type": "code",
      "execution_count": 24,
      "metadata": {
        "id": "ZD4EbvIejg3K"
      },
      "outputs": [],
      "source": [
        "class Decoder(nn.Module):\n",
        "    def __init__(self, vocab_size, embed_dim, hidden_dim, n_heads, n_blocks):\n",
        "        super().__init__()\n",
        "        self.embedding = nn.Embedding(vocab_size, embed_dim)\n",
        "        self.positional_encoding = PositionalEncoder(embed_dim)\n",
        "        self.decoder_blocks = nn.ModuleList(\n",
        "            [DecoderBlock(n_heads, embed_dim, hidden_dim) for _ in range(n_blocks)]\n",
        "        )\n",
        "\n",
        "    def forward(self, tgt_tokens, tgt_mask, encoder_state, src_mask):\n",
        "        x = self.embedding(tgt_tokens)\n",
        "        x = self.positional_encoding(x)\n",
        "        for block in self.decoder_blocks:\n",
        "            x = block(x, tgt_mask, encoder_state, src_mask)\n",
        "        return x\n",
        "\n",
        "# Uncomment below to test your module\n",
        "# vocab_size = 5\n",
        "# n_blocks, n_heads, batch_size, embed_dim, hidden_dim = 10, 2, 1, 4, 8\n",
        "# tgt_tokens = torch.IntTensor([[0, 1, 2, 3, 4]])\n",
        "# tgt_mask = src_mask = torch.IntTensor([[1, 1, 1, 1, 1]])\n",
        "# enc_state = torch.randn((1, 5, 4))\n",
        "# dec = Decoder(vocab_size, embed_dim, hidden_dim, n_heads, n_blocks)\n",
        "# dec(tgt_tokens, tgt_mask, enc_state, src_mask)"
      ]
    },
    {
      "cell_type": "markdown",
      "metadata": {
        "id": "7WkCPP0_jg3L"
      },
      "source": [
        "### The Full Transformer Model\n",
        "\n",
        "We can now put the Encoder and Decoder together to produce the full Transformer model.\n",
        "\n"
      ]
    },
    {
      "cell_type": "markdown",
      "metadata": {
        "id": "zdSQBxIgjg3M"
      },
      "source": [
        "#### Exercise 1.3: Transformer Module\n",
        "\n",
        "In the last exercise for this section you will implement the forward method of the full Transformer module. First you will apply the source tokens and mask to the Encoder to get its output, then use that along with the target tokens and mask to produce the Decoder output. Finally we run the Decoder output through a linear layer to transform the embeddings back into vocab ID scores in order to determine the actual next word prediction."
      ]
    },
    {
      "cell_type": "code",
      "execution_count": 25,
      "metadata": {
        "id": "ViZpb9Rwjg3M"
      },
      "outputs": [],
      "source": [
        "class Transformer(nn.Module):\n",
        "    def __init__(\n",
        "        self, src_vocab_size, tgt_vocab_size, embed_dim, hidden_dim, n_heads, n_blocks\n",
        "    ):\n",
        "        super().__init__()\n",
        "        self.encoder = Encoder(src_vocab_size, embed_dim, hidden_dim, n_heads, n_blocks)\n",
        "        self.decoder = Decoder(tgt_vocab_size, embed_dim, hidden_dim, n_heads, n_blocks)\n",
        "        self.out = nn.Linear(embed_dim, tgt_vocab_size)\n",
        "\n",
        "    def forward(self, src_tokens, src_mask, tgt_tokens, tgt_mask):\n",
        "        ####################################################################\n",
        "        # Fill in missing code below (...),\n",
        "        # then remove or comment the line below to test your function\n",
        "        raise NotImplementedError(\"Transformer\")\n",
        "        ####################################################################\n",
        "        # Compute the encoder output state from the source tokens and mask\n",
        "        encoder_state = ...\n",
        "        # Compute the decoder output state from the target tokens and mask as well\n",
        "        # as the encoder state and source mask\n",
        "        decoder_state = ...\n",
        "        # Compute the vocab scores by passing the decoder state through the output\n",
        "        # linear layer\n",
        "        out = ...\n",
        "        return out\n",
        "\n",
        "\n",
        "# Uncomment below to test your module\n",
        "# src_vocab_size = tgt_vocab_size = 5\n",
        "# n_blocks, n_heads, batch_size, embed_dim, hidden_dim = 10, 2, 1, 4, 8\n",
        "# src_tokens = tgt_tokens = torch.IntTensor([[0,1,2,3,4]])\n",
        "# src_mask = tgt_mask = torch.IntTensor([[1,1,1,1,1]])\n",
        "\n",
        "# transformer = Transformer(src_vocab_size, tgt_vocab_size, embed_dim, hidden_dim, n_heads, n_blocks)\n",
        "# transformer(src_tokens, src_mask, tgt_tokens, tgt_mask)"
      ]
    },
    {
      "cell_type": "markdown",
      "metadata": {
        "id": "Tg7ooLKEjg3S"
      },
      "source": [
        "### Summary\n",
        "We've covered all the building blocks that make up the Transformer network architecture from the attention mechanism up to the fully combined encoder-decoder setup. The module versions presented here were often simplified in some ways and made more verbose in others to emphasize what each component is doing.\n",
        "\n",
        "You should now feel that you have a good understanding of the Transformer architecture and how it works. In the next notebook we will look at how to train this model, and see what the current state of the art is for machine learning practitioners in industry, academia... and in the emerging world of large language models like GPT-3 and GPT-4.\n",
        "\n",
        "We hope that we have \"unmagicked\" the transformer architecture for you in the same way we unmagicked stable diffusion together. These world-changing models are just a combination of a few simple ideas that have been around for a long time!"
      ]
    },
    {
      "cell_type": "markdown",
      "metadata": {
        "id": "EDksU8X1jg3T"
      },
      "source": [
        "# Wrap Up\n",
        "\n",
        "### Quiz\n",
        "\n",
        "**In a deep attention network, why would you expect part of speech tagging to be done closer to the input, and co-reference to be done more deeply in the network?**\n"
      ]
    },
    {
      "cell_type": "code",
      "execution_count": 26,
      "metadata": {
        "id": "3OJYeyaAjg3T"
      },
      "outputs": [],
      "source": [
        "why_pos_vs_coreference = \"\" #@param {type:\"string\"}"
      ]
    },
    {
      "cell_type": "markdown",
      "metadata": {
        "id": "nWqPRtRQjg3T"
      },
      "source": [
        "**In the original Transformer architecture, the authors used both Dropout _and_ output masking. Why do we need to mask some of the target tokens?**"
      ]
    },
    {
      "cell_type": "code",
      "execution_count": null,
      "metadata": {
        "id": "aYlLgmEkjg3T"
      },
      "outputs": [],
      "source": [
        "dropout_and_masking = \"\" #@param {type:\"string\"}"
      ]
    },
    {
      "cell_type": "code",
      "execution_count": null,
      "metadata": {
        "id": "x2xZDKPYjg3T"
      },
      "outputs": [],
      "source": [
        "# @title Submit your quiz answers (run this cell to submit)\n",
        "\n",
        "quizdt.store(\n",
        "    dict(\n",
        "        notebook=tutorial,\n",
        "        my_pennkey=my_pennkey,\n",
        "        my_pod=my_pod,\n",
        "        my_email=my_email,\n",
        "        why_k_embed_q_embed=why_k_embed_q_embed,\n",
        "        why_pos_vs_coreference=why_pos_vs_coreference,\n",
        "        dropout_and_masking=dropout_and_masking,\n",
        "    )\n",
        ")"
      ]
    }
  ],
  "metadata": {
    "kernelspec": {
      "display_name": "Python 3",
      "language": "python",
      "name": "python3"
    },
    "language_info": {
      "codemirror_mode": {
        "name": "ipython",
        "version": 3
      },
      "file_extension": ".py",
      "mimetype": "text/x-python",
      "name": "python",
      "nbconvert_exporter": "python",
      "pygments_lexer": "ipython3",
      "version": "3.9.7"
    },
    "orig_nbformat": 4,
    "colab": {
      "provenance": []
    },
    "widgets": {
      "application/vnd.jupyter.widget-state+json": {
        "10065d08caa44f9583826368eebd5a54": {
          "model_module": "@jupyter-widgets/controls",
          "model_name": "VBoxModel",
          "model_module_version": "1.5.0",
          "state": {
            "_dom_classes": [],
            "_model_module": "@jupyter-widgets/controls",
            "_model_module_version": "1.5.0",
            "_model_name": "VBoxModel",
            "_view_count": null,
            "_view_module": "@jupyter-widgets/controls",
            "_view_module_version": "1.5.0",
            "_view_name": "VBoxView",
            "box_style": "",
            "children": [
              "IPY_MODEL_7167bd4eefad4bd2822469bf50b37902",
              "IPY_MODEL_223f4c5d1e2248f6a6976bc595383890",
              "IPY_MODEL_59699e1665824367841c74945677295d",
              "IPY_MODEL_75a52e10032f4bbfad7f2585eb32339a"
            ],
            "layout": "IPY_MODEL_d221a4692d6f459d8736295b08ccab74"
          }
        },
        "7167bd4eefad4bd2822469bf50b37902": {
          "model_module": "@jupyter-widgets/controls",
          "model_name": "LabelModel",
          "model_module_version": "1.5.0",
          "state": {
            "_dom_classes": [],
            "_model_module": "@jupyter-widgets/controls",
            "_model_module_version": "1.5.0",
            "_model_name": "LabelModel",
            "_view_count": null,
            "_view_module": "@jupyter-widgets/controls",
            "_view_module_version": "1.5.0",
            "_view_name": "LabelView",
            "description": "",
            "description_tooltip": null,
            "layout": "IPY_MODEL_7c7f43c5177c4c03a4f2700be7067d96",
            "placeholder": "​",
            "style": "IPY_MODEL_00ab7bb2433a45c5b8246be4dbbdc14e",
            "value": ""
          }
        },
        "223f4c5d1e2248f6a6976bc595383890": {
          "model_module": "@jupyter-widgets/controls",
          "model_name": "HBoxModel",
          "model_module_version": "1.5.0",
          "state": {
            "_dom_classes": [],
            "_model_module": "@jupyter-widgets/controls",
            "_model_module_version": "1.5.0",
            "_model_name": "HBoxModel",
            "_view_count": null,
            "_view_module": "@jupyter-widgets/controls",
            "_view_module_version": "1.5.0",
            "_view_name": "HBoxView",
            "box_style": "",
            "children": [
              "IPY_MODEL_1620a3aa642a43a68bcaeadc15c20ff6",
              "IPY_MODEL_539f1eccd531478cb78a442d4cc9b2bb",
              "IPY_MODEL_364668ccaa8b4bd79e187c63ae08623a"
            ],
            "layout": "IPY_MODEL_ceaa5f58d14a4c8bab518e566d3067fe"
          }
        },
        "59699e1665824367841c74945677295d": {
          "model_module": "@jupyter-widgets/controls",
          "model_name": "HBoxModel",
          "model_module_version": "1.5.0",
          "state": {
            "_dom_classes": [],
            "_model_module": "@jupyter-widgets/controls",
            "_model_module_version": "1.5.0",
            "_model_name": "HBoxModel",
            "_view_count": null,
            "_view_module": "@jupyter-widgets/controls",
            "_view_module_version": "1.5.0",
            "_view_name": "HBoxView",
            "box_style": "",
            "children": [
              "IPY_MODEL_c74083faf7e64aa988653050536e9b93",
              "IPY_MODEL_bbbefefc40444b97877cd6d6f7617786"
            ],
            "layout": "IPY_MODEL_2b16779dd3274a57ae1592e827910cb8"
          }
        },
        "75a52e10032f4bbfad7f2585eb32339a": {
          "model_module": "@jupyter-widgets/controls",
          "model_name": "LabelModel",
          "model_module_version": "1.5.0",
          "state": {
            "_dom_classes": [],
            "_model_module": "@jupyter-widgets/controls",
            "_model_module_version": "1.5.0",
            "_model_name": "LabelModel",
            "_view_count": null,
            "_view_module": "@jupyter-widgets/controls",
            "_view_module_version": "1.5.0",
            "_view_name": "LabelView",
            "description": "",
            "description_tooltip": null,
            "layout": "IPY_MODEL_45f2492103b44402b1d2a065cd76880b",
            "placeholder": "​",
            "style": "IPY_MODEL_529dcbe914b542e89ae2081c37fe95c3",
            "value": "Thanks for your feedback!"
          }
        },
        "d221a4692d6f459d8736295b08ccab74": {
          "model_module": "@jupyter-widgets/base",
          "model_name": "LayoutModel",
          "model_module_version": "1.2.0",
          "state": {
            "_model_module": "@jupyter-widgets/base",
            "_model_module_version": "1.2.0",
            "_model_name": "LayoutModel",
            "_view_count": null,
            "_view_module": "@jupyter-widgets/base",
            "_view_module_version": "1.2.0",
            "_view_name": "LayoutView",
            "align_content": null,
            "align_items": null,
            "align_self": null,
            "border": null,
            "bottom": null,
            "display": null,
            "flex": null,
            "flex_flow": null,
            "grid_area": null,
            "grid_auto_columns": null,
            "grid_auto_flow": null,
            "grid_auto_rows": null,
            "grid_column": null,
            "grid_gap": null,
            "grid_row": null,
            "grid_template_areas": null,
            "grid_template_columns": null,
            "grid_template_rows": null,
            "height": null,
            "justify_content": null,
            "justify_items": null,
            "left": null,
            "margin": null,
            "max_height": null,
            "max_width": null,
            "min_height": null,
            "min_width": null,
            "object_fit": null,
            "object_position": null,
            "order": null,
            "overflow": null,
            "overflow_x": null,
            "overflow_y": null,
            "padding": null,
            "right": null,
            "top": null,
            "visibility": null,
            "width": null
          }
        },
        "7c7f43c5177c4c03a4f2700be7067d96": {
          "model_module": "@jupyter-widgets/base",
          "model_name": "LayoutModel",
          "model_module_version": "1.2.0",
          "state": {
            "_model_module": "@jupyter-widgets/base",
            "_model_module_version": "1.2.0",
            "_model_name": "LayoutModel",
            "_view_count": null,
            "_view_module": "@jupyter-widgets/base",
            "_view_module_version": "1.2.0",
            "_view_name": "LayoutView",
            "align_content": null,
            "align_items": null,
            "align_self": null,
            "border": null,
            "bottom": null,
            "display": null,
            "flex": null,
            "flex_flow": null,
            "grid_area": null,
            "grid_auto_columns": null,
            "grid_auto_flow": null,
            "grid_auto_rows": null,
            "grid_column": null,
            "grid_gap": null,
            "grid_row": null,
            "grid_template_areas": null,
            "grid_template_columns": null,
            "grid_template_rows": null,
            "height": null,
            "justify_content": null,
            "justify_items": null,
            "left": null,
            "margin": null,
            "max_height": null,
            "max_width": null,
            "min_height": null,
            "min_width": null,
            "object_fit": null,
            "object_position": null,
            "order": null,
            "overflow": null,
            "overflow_x": null,
            "overflow_y": null,
            "padding": null,
            "right": null,
            "top": null,
            "visibility": null,
            "width": null
          }
        },
        "00ab7bb2433a45c5b8246be4dbbdc14e": {
          "model_module": "@jupyter-widgets/controls",
          "model_name": "DescriptionStyleModel",
          "model_module_version": "1.5.0",
          "state": {
            "_model_module": "@jupyter-widgets/controls",
            "_model_module_version": "1.5.0",
            "_model_name": "DescriptionStyleModel",
            "_view_count": null,
            "_view_module": "@jupyter-widgets/base",
            "_view_module_version": "1.2.0",
            "_view_name": "StyleView",
            "description_width": ""
          }
        },
        "1620a3aa642a43a68bcaeadc15c20ff6": {
          "model_module": "@jupyter-widgets/controls",
          "model_name": "ButtonModel",
          "model_module_version": "1.5.0",
          "state": {
            "_dom_classes": [
              "happy"
            ],
            "_model_module": "@jupyter-widgets/controls",
            "_model_module_version": "1.5.0",
            "_model_name": "ButtonModel",
            "_view_count": null,
            "_view_module": "@jupyter-widgets/controls",
            "_view_module_version": "1.5.0",
            "_view_name": "ButtonView",
            "button_style": "",
            "description": "🙂",
            "disabled": false,
            "icon": "",
            "layout": "IPY_MODEL_3cb4279326414205a3c6b04a5b74710c",
            "style": "IPY_MODEL_045badb7fc394340b520000bc5fca8b4",
            "tooltip": "Happy"
          }
        },
        "539f1eccd531478cb78a442d4cc9b2bb": {
          "model_module": "@jupyter-widgets/controls",
          "model_name": "ButtonModel",
          "model_module_version": "1.5.0",
          "state": {
            "_dom_classes": [
              "medium"
            ],
            "_model_module": "@jupyter-widgets/controls",
            "_model_module_version": "1.5.0",
            "_model_name": "ButtonModel",
            "_view_count": null,
            "_view_module": "@jupyter-widgets/controls",
            "_view_module_version": "1.5.0",
            "_view_name": "ButtonView",
            "button_style": "",
            "description": "😐",
            "disabled": false,
            "icon": "",
            "layout": "IPY_MODEL_6bb363f8f961458685dd58b959e87b18",
            "style": "IPY_MODEL_3668eb347c504288a58dea7c60ed56d3",
            "tooltip": "Medium"
          }
        },
        "364668ccaa8b4bd79e187c63ae08623a": {
          "model_module": "@jupyter-widgets/controls",
          "model_name": "ButtonModel",
          "model_module_version": "1.5.0",
          "state": {
            "_dom_classes": [
              "sad"
            ],
            "_model_module": "@jupyter-widgets/controls",
            "_model_module_version": "1.5.0",
            "_model_name": "ButtonModel",
            "_view_count": null,
            "_view_module": "@jupyter-widgets/controls",
            "_view_module_version": "1.5.0",
            "_view_name": "ButtonView",
            "button_style": "",
            "description": "🙁",
            "disabled": false,
            "icon": "",
            "layout": "IPY_MODEL_dfdc6847860f42d0a551e7c091df25e0",
            "style": "IPY_MODEL_82fa046d017f4ffebb0763bfcb6675d3",
            "tooltip": "Sad"
          }
        },
        "ceaa5f58d14a4c8bab518e566d3067fe": {
          "model_module": "@jupyter-widgets/base",
          "model_name": "LayoutModel",
          "model_module_version": "1.2.0",
          "state": {
            "_model_module": "@jupyter-widgets/base",
            "_model_module_version": "1.2.0",
            "_model_name": "LayoutModel",
            "_view_count": null,
            "_view_module": "@jupyter-widgets/base",
            "_view_module_version": "1.2.0",
            "_view_name": "LayoutView",
            "align_content": null,
            "align_items": null,
            "align_self": null,
            "border": null,
            "bottom": null,
            "display": null,
            "flex": null,
            "flex_flow": null,
            "grid_area": null,
            "grid_auto_columns": null,
            "grid_auto_flow": null,
            "grid_auto_rows": null,
            "grid_column": null,
            "grid_gap": null,
            "grid_row": null,
            "grid_template_areas": null,
            "grid_template_columns": null,
            "grid_template_rows": null,
            "height": null,
            "justify_content": null,
            "justify_items": null,
            "left": null,
            "margin": null,
            "max_height": null,
            "max_width": null,
            "min_height": null,
            "min_width": null,
            "object_fit": null,
            "object_position": null,
            "order": null,
            "overflow": null,
            "overflow_x": null,
            "overflow_y": null,
            "padding": null,
            "right": null,
            "top": null,
            "visibility": null,
            "width": null
          }
        },
        "c74083faf7e64aa988653050536e9b93": {
          "model_module": "@jupyter-widgets/controls",
          "model_name": "TextareaModel",
          "model_module_version": "1.5.0",
          "state": {
            "_dom_classes": [],
            "_model_module": "@jupyter-widgets/controls",
            "_model_module_version": "1.5.0",
            "_model_name": "TextareaModel",
            "_view_count": null,
            "_view_module": "@jupyter-widgets/controls",
            "_view_module_version": "1.5.0",
            "_view_name": "TextareaView",
            "continuous_update": true,
            "description": "",
            "description_tooltip": null,
            "disabled": false,
            "layout": "IPY_MODEL_aefbb44bbd8146efa52f09fafa86c5dd",
            "placeholder": "We want your feedback!",
            "rows": null,
            "style": "IPY_MODEL_d3b6c5c18d344ba1b382a358d212854f",
            "value": ""
          }
        },
        "bbbefefc40444b97877cd6d6f7617786": {
          "model_module": "@jupyter-widgets/controls",
          "model_name": "ButtonModel",
          "model_module_version": "1.5.0",
          "state": {
            "_dom_classes": [],
            "_model_module": "@jupyter-widgets/controls",
            "_model_module_version": "1.5.0",
            "_model_name": "ButtonModel",
            "_view_count": null,
            "_view_module": "@jupyter-widgets/controls",
            "_view_module_version": "1.5.0",
            "_view_name": "ButtonView",
            "button_style": "",
            "description": "Submit",
            "disabled": false,
            "icon": "",
            "layout": "IPY_MODEL_191de8cd6bd9436aaa944738054efcf8",
            "style": "IPY_MODEL_aba0ae2114c8458e9669836dcdbfee15",
            "tooltip": ""
          }
        },
        "2b16779dd3274a57ae1592e827910cb8": {
          "model_module": "@jupyter-widgets/base",
          "model_name": "LayoutModel",
          "model_module_version": "1.2.0",
          "state": {
            "_model_module": "@jupyter-widgets/base",
            "_model_module_version": "1.2.0",
            "_model_name": "LayoutModel",
            "_view_count": null,
            "_view_module": "@jupyter-widgets/base",
            "_view_module_version": "1.2.0",
            "_view_name": "LayoutView",
            "align_content": null,
            "align_items": null,
            "align_self": null,
            "border": null,
            "bottom": null,
            "display": "none",
            "flex": null,
            "flex_flow": null,
            "grid_area": null,
            "grid_auto_columns": null,
            "grid_auto_flow": null,
            "grid_auto_rows": null,
            "grid_column": null,
            "grid_gap": null,
            "grid_row": null,
            "grid_template_areas": null,
            "grid_template_columns": null,
            "grid_template_rows": null,
            "height": null,
            "justify_content": null,
            "justify_items": null,
            "left": null,
            "margin": null,
            "max_height": null,
            "max_width": null,
            "min_height": null,
            "min_width": null,
            "object_fit": null,
            "object_position": null,
            "order": null,
            "overflow": null,
            "overflow_x": null,
            "overflow_y": null,
            "padding": null,
            "right": null,
            "top": null,
            "visibility": null,
            "width": null
          }
        },
        "45f2492103b44402b1d2a065cd76880b": {
          "model_module": "@jupyter-widgets/base",
          "model_name": "LayoutModel",
          "model_module_version": "1.2.0",
          "state": {
            "_model_module": "@jupyter-widgets/base",
            "_model_module_version": "1.2.0",
            "_model_name": "LayoutModel",
            "_view_count": null,
            "_view_module": "@jupyter-widgets/base",
            "_view_module_version": "1.2.0",
            "_view_name": "LayoutView",
            "align_content": null,
            "align_items": null,
            "align_self": null,
            "border": null,
            "bottom": null,
            "display": "none",
            "flex": null,
            "flex_flow": null,
            "grid_area": null,
            "grid_auto_columns": null,
            "grid_auto_flow": null,
            "grid_auto_rows": null,
            "grid_column": null,
            "grid_gap": null,
            "grid_row": null,
            "grid_template_areas": null,
            "grid_template_columns": null,
            "grid_template_rows": null,
            "height": null,
            "justify_content": null,
            "justify_items": null,
            "left": null,
            "margin": null,
            "max_height": null,
            "max_width": null,
            "min_height": null,
            "min_width": null,
            "object_fit": null,
            "object_position": null,
            "order": null,
            "overflow": null,
            "overflow_x": null,
            "overflow_y": null,
            "padding": null,
            "right": null,
            "top": null,
            "visibility": null,
            "width": null
          }
        },
        "529dcbe914b542e89ae2081c37fe95c3": {
          "model_module": "@jupyter-widgets/controls",
          "model_name": "DescriptionStyleModel",
          "model_module_version": "1.5.0",
          "state": {
            "_model_module": "@jupyter-widgets/controls",
            "_model_module_version": "1.5.0",
            "_model_name": "DescriptionStyleModel",
            "_view_count": null,
            "_view_module": "@jupyter-widgets/base",
            "_view_module_version": "1.2.0",
            "_view_name": "StyleView",
            "description_width": ""
          }
        },
        "3cb4279326414205a3c6b04a5b74710c": {
          "model_module": "@jupyter-widgets/base",
          "model_name": "LayoutModel",
          "model_module_version": "1.2.0",
          "state": {
            "_model_module": "@jupyter-widgets/base",
            "_model_module_version": "1.2.0",
            "_model_name": "LayoutModel",
            "_view_count": null,
            "_view_module": "@jupyter-widgets/base",
            "_view_module_version": "1.2.0",
            "_view_name": "LayoutView",
            "align_content": null,
            "align_items": null,
            "align_self": null,
            "border": null,
            "bottom": null,
            "display": null,
            "flex": null,
            "flex_flow": null,
            "grid_area": null,
            "grid_auto_columns": null,
            "grid_auto_flow": null,
            "grid_auto_rows": null,
            "grid_column": null,
            "grid_gap": null,
            "grid_row": null,
            "grid_template_areas": null,
            "grid_template_columns": null,
            "grid_template_rows": null,
            "height": "auto",
            "justify_content": null,
            "justify_items": null,
            "left": null,
            "margin": null,
            "max_height": null,
            "max_width": null,
            "min_height": null,
            "min_width": null,
            "object_fit": null,
            "object_position": null,
            "order": null,
            "overflow": null,
            "overflow_x": null,
            "overflow_y": null,
            "padding": null,
            "right": null,
            "top": null,
            "visibility": null,
            "width": "auto"
          }
        },
        "045badb7fc394340b520000bc5fca8b4": {
          "model_module": "@jupyter-widgets/controls",
          "model_name": "ButtonStyleModel",
          "model_module_version": "1.5.0",
          "state": {
            "_model_module": "@jupyter-widgets/controls",
            "_model_module_version": "1.5.0",
            "_model_name": "ButtonStyleModel",
            "_view_count": null,
            "_view_module": "@jupyter-widgets/base",
            "_view_module_version": "1.2.0",
            "_view_name": "StyleView",
            "button_color": "#aaffaa",
            "font_weight": ""
          }
        },
        "6bb363f8f961458685dd58b959e87b18": {
          "model_module": "@jupyter-widgets/base",
          "model_name": "LayoutModel",
          "model_module_version": "1.2.0",
          "state": {
            "_model_module": "@jupyter-widgets/base",
            "_model_module_version": "1.2.0",
            "_model_name": "LayoutModel",
            "_view_count": null,
            "_view_module": "@jupyter-widgets/base",
            "_view_module_version": "1.2.0",
            "_view_name": "LayoutView",
            "align_content": null,
            "align_items": null,
            "align_self": null,
            "border": null,
            "bottom": null,
            "display": null,
            "flex": null,
            "flex_flow": null,
            "grid_area": null,
            "grid_auto_columns": null,
            "grid_auto_flow": null,
            "grid_auto_rows": null,
            "grid_column": null,
            "grid_gap": null,
            "grid_row": null,
            "grid_template_areas": null,
            "grid_template_columns": null,
            "grid_template_rows": null,
            "height": "auto",
            "justify_content": null,
            "justify_items": null,
            "left": null,
            "margin": null,
            "max_height": null,
            "max_width": null,
            "min_height": null,
            "min_width": null,
            "object_fit": null,
            "object_position": null,
            "order": null,
            "overflow": null,
            "overflow_x": null,
            "overflow_y": null,
            "padding": null,
            "right": null,
            "top": null,
            "visibility": null,
            "width": "auto"
          }
        },
        "3668eb347c504288a58dea7c60ed56d3": {
          "model_module": "@jupyter-widgets/controls",
          "model_name": "ButtonStyleModel",
          "model_module_version": "1.5.0",
          "state": {
            "_model_module": "@jupyter-widgets/controls",
            "_model_module_version": "1.5.0",
            "_model_name": "ButtonStyleModel",
            "_view_count": null,
            "_view_module": "@jupyter-widgets/base",
            "_view_module_version": "1.2.0",
            "_view_name": "StyleView",
            "button_color": "#dddd77",
            "font_weight": ""
          }
        },
        "dfdc6847860f42d0a551e7c091df25e0": {
          "model_module": "@jupyter-widgets/base",
          "model_name": "LayoutModel",
          "model_module_version": "1.2.0",
          "state": {
            "_model_module": "@jupyter-widgets/base",
            "_model_module_version": "1.2.0",
            "_model_name": "LayoutModel",
            "_view_count": null,
            "_view_module": "@jupyter-widgets/base",
            "_view_module_version": "1.2.0",
            "_view_name": "LayoutView",
            "align_content": null,
            "align_items": null,
            "align_self": null,
            "border": null,
            "bottom": null,
            "display": null,
            "flex": null,
            "flex_flow": null,
            "grid_area": null,
            "grid_auto_columns": null,
            "grid_auto_flow": null,
            "grid_auto_rows": null,
            "grid_column": null,
            "grid_gap": null,
            "grid_row": null,
            "grid_template_areas": null,
            "grid_template_columns": null,
            "grid_template_rows": null,
            "height": "auto",
            "justify_content": null,
            "justify_items": null,
            "left": null,
            "margin": null,
            "max_height": null,
            "max_width": null,
            "min_height": null,
            "min_width": null,
            "object_fit": null,
            "object_position": null,
            "order": null,
            "overflow": null,
            "overflow_x": null,
            "overflow_y": null,
            "padding": null,
            "right": null,
            "top": null,
            "visibility": null,
            "width": "auto"
          }
        },
        "82fa046d017f4ffebb0763bfcb6675d3": {
          "model_module": "@jupyter-widgets/controls",
          "model_name": "ButtonStyleModel",
          "model_module_version": "1.5.0",
          "state": {
            "_model_module": "@jupyter-widgets/controls",
            "_model_module_version": "1.5.0",
            "_model_name": "ButtonStyleModel",
            "_view_count": null,
            "_view_module": "@jupyter-widgets/base",
            "_view_module_version": "1.2.0",
            "_view_name": "StyleView",
            "button_color": "#ffaaaa",
            "font_weight": ""
          }
        },
        "aefbb44bbd8146efa52f09fafa86c5dd": {
          "model_module": "@jupyter-widgets/base",
          "model_name": "LayoutModel",
          "model_module_version": "1.2.0",
          "state": {
            "_model_module": "@jupyter-widgets/base",
            "_model_module_version": "1.2.0",
            "_model_name": "LayoutModel",
            "_view_count": null,
            "_view_module": "@jupyter-widgets/base",
            "_view_module_version": "1.2.0",
            "_view_name": "LayoutView",
            "align_content": null,
            "align_items": null,
            "align_self": null,
            "border": null,
            "bottom": null,
            "display": null,
            "flex": null,
            "flex_flow": null,
            "grid_area": null,
            "grid_auto_columns": null,
            "grid_auto_flow": null,
            "grid_auto_rows": null,
            "grid_column": null,
            "grid_gap": null,
            "grid_row": null,
            "grid_template_areas": null,
            "grid_template_columns": null,
            "grid_template_rows": null,
            "height": "auto",
            "justify_content": null,
            "justify_items": null,
            "left": null,
            "margin": null,
            "max_height": null,
            "max_width": null,
            "min_height": null,
            "min_width": null,
            "object_fit": null,
            "object_position": null,
            "order": null,
            "overflow": null,
            "overflow_x": null,
            "overflow_y": null,
            "padding": null,
            "right": null,
            "top": null,
            "visibility": null,
            "width": "auto"
          }
        },
        "d3b6c5c18d344ba1b382a358d212854f": {
          "model_module": "@jupyter-widgets/controls",
          "model_name": "DescriptionStyleModel",
          "model_module_version": "1.5.0",
          "state": {
            "_model_module": "@jupyter-widgets/controls",
            "_model_module_version": "1.5.0",
            "_model_name": "DescriptionStyleModel",
            "_view_count": null,
            "_view_module": "@jupyter-widgets/base",
            "_view_module_version": "1.2.0",
            "_view_name": "StyleView",
            "description_width": ""
          }
        },
        "191de8cd6bd9436aaa944738054efcf8": {
          "model_module": "@jupyter-widgets/base",
          "model_name": "LayoutModel",
          "model_module_version": "1.2.0",
          "state": {
            "_model_module": "@jupyter-widgets/base",
            "_model_module_version": "1.2.0",
            "_model_name": "LayoutModel",
            "_view_count": null,
            "_view_module": "@jupyter-widgets/base",
            "_view_module_version": "1.2.0",
            "_view_name": "LayoutView",
            "align_content": null,
            "align_items": null,
            "align_self": null,
            "border": null,
            "bottom": null,
            "display": null,
            "flex": null,
            "flex_flow": null,
            "grid_area": null,
            "grid_auto_columns": null,
            "grid_auto_flow": null,
            "grid_auto_rows": null,
            "grid_column": null,
            "grid_gap": null,
            "grid_row": null,
            "grid_template_areas": null,
            "grid_template_columns": null,
            "grid_template_rows": null,
            "height": "auto",
            "justify_content": null,
            "justify_items": null,
            "left": null,
            "margin": null,
            "max_height": null,
            "max_width": null,
            "min_height": null,
            "min_width": null,
            "object_fit": null,
            "object_position": null,
            "order": null,
            "overflow": null,
            "overflow_x": null,
            "overflow_y": null,
            "padding": null,
            "right": null,
            "top": null,
            "visibility": null,
            "width": "auto"
          }
        },
        "aba0ae2114c8458e9669836dcdbfee15": {
          "model_module": "@jupyter-widgets/controls",
          "model_name": "ButtonStyleModel",
          "model_module_version": "1.5.0",
          "state": {
            "_model_module": "@jupyter-widgets/controls",
            "_model_module_version": "1.5.0",
            "_model_name": "ButtonStyleModel",
            "_view_count": null,
            "_view_module": "@jupyter-widgets/base",
            "_view_module_version": "1.2.0",
            "_view_name": "StyleView",
            "button_color": null,
            "font_weight": ""
          }
        },
        "098fdb29d7c444a199fcdb19bfe61817": {
          "model_module": "@jupyter-widgets/controls",
          "model_name": "VBoxModel",
          "model_module_version": "1.5.0",
          "state": {
            "_dom_classes": [],
            "_model_module": "@jupyter-widgets/controls",
            "_model_module_version": "1.5.0",
            "_model_name": "VBoxModel",
            "_view_count": null,
            "_view_module": "@jupyter-widgets/controls",
            "_view_module_version": "1.5.0",
            "_view_name": "VBoxView",
            "box_style": "",
            "children": [
              "IPY_MODEL_7ffc49bcce5b47578d8e00afae4a9804",
              "IPY_MODEL_0c08b0198ec348a0ac829de5607b9253",
              "IPY_MODEL_776f9601272d46c5aab934d016c7cf69",
              "IPY_MODEL_b8e8ba1cadd54ec2b1d3184623e1e57f"
            ],
            "layout": "IPY_MODEL_a23a08eef7db4f6483e59ef90c2788d8"
          }
        },
        "7ffc49bcce5b47578d8e00afae4a9804": {
          "model_module": "@jupyter-widgets/controls",
          "model_name": "LabelModel",
          "model_module_version": "1.5.0",
          "state": {
            "_dom_classes": [],
            "_model_module": "@jupyter-widgets/controls",
            "_model_module_version": "1.5.0",
            "_model_name": "LabelModel",
            "_view_count": null,
            "_view_module": "@jupyter-widgets/controls",
            "_view_module_version": "1.5.0",
            "_view_name": "LabelView",
            "description": "",
            "description_tooltip": null,
            "layout": "IPY_MODEL_5a4787ad232e47eaaa5a743ecfefad7e",
            "placeholder": "​",
            "style": "IPY_MODEL_9b12212405ab4e4eaebfcf3ae179d5eb",
            "value": ""
          }
        },
        "0c08b0198ec348a0ac829de5607b9253": {
          "model_module": "@jupyter-widgets/controls",
          "model_name": "HBoxModel",
          "model_module_version": "1.5.0",
          "state": {
            "_dom_classes": [],
            "_model_module": "@jupyter-widgets/controls",
            "_model_module_version": "1.5.0",
            "_model_name": "HBoxModel",
            "_view_count": null,
            "_view_module": "@jupyter-widgets/controls",
            "_view_module_version": "1.5.0",
            "_view_name": "HBoxView",
            "box_style": "",
            "children": [
              "IPY_MODEL_bfa47d31715a47879d633930d78faad6",
              "IPY_MODEL_5519a772bf514e1ca416a534f1450469",
              "IPY_MODEL_b56a18deb61f4c67a27655eeb65dbf10"
            ],
            "layout": "IPY_MODEL_067d5662703a4b3b8e6dfcaf096c8983"
          }
        },
        "776f9601272d46c5aab934d016c7cf69": {
          "model_module": "@jupyter-widgets/controls",
          "model_name": "HBoxModel",
          "model_module_version": "1.5.0",
          "state": {
            "_dom_classes": [],
            "_model_module": "@jupyter-widgets/controls",
            "_model_module_version": "1.5.0",
            "_model_name": "HBoxModel",
            "_view_count": null,
            "_view_module": "@jupyter-widgets/controls",
            "_view_module_version": "1.5.0",
            "_view_name": "HBoxView",
            "box_style": "",
            "children": [
              "IPY_MODEL_8973baa12f4946e696b063012dafc9b8",
              "IPY_MODEL_802c999c42174bbd896b119b67a7e2b8"
            ],
            "layout": "IPY_MODEL_1e6006f81360404ba1308b57d0792bf2"
          }
        },
        "b8e8ba1cadd54ec2b1d3184623e1e57f": {
          "model_module": "@jupyter-widgets/controls",
          "model_name": "LabelModel",
          "model_module_version": "1.5.0",
          "state": {
            "_dom_classes": [],
            "_model_module": "@jupyter-widgets/controls",
            "_model_module_version": "1.5.0",
            "_model_name": "LabelModel",
            "_view_count": null,
            "_view_module": "@jupyter-widgets/controls",
            "_view_module_version": "1.5.0",
            "_view_name": "LabelView",
            "description": "",
            "description_tooltip": null,
            "layout": "IPY_MODEL_ff5094de8bab44b185b7507878a05df0",
            "placeholder": "​",
            "style": "IPY_MODEL_0b551afec01c49c79a181b4ca65ae957",
            "value": "Thanks for your feedback!"
          }
        },
        "a23a08eef7db4f6483e59ef90c2788d8": {
          "model_module": "@jupyter-widgets/base",
          "model_name": "LayoutModel",
          "model_module_version": "1.2.0",
          "state": {
            "_model_module": "@jupyter-widgets/base",
            "_model_module_version": "1.2.0",
            "_model_name": "LayoutModel",
            "_view_count": null,
            "_view_module": "@jupyter-widgets/base",
            "_view_module_version": "1.2.0",
            "_view_name": "LayoutView",
            "align_content": null,
            "align_items": null,
            "align_self": null,
            "border": null,
            "bottom": null,
            "display": null,
            "flex": null,
            "flex_flow": null,
            "grid_area": null,
            "grid_auto_columns": null,
            "grid_auto_flow": null,
            "grid_auto_rows": null,
            "grid_column": null,
            "grid_gap": null,
            "grid_row": null,
            "grid_template_areas": null,
            "grid_template_columns": null,
            "grid_template_rows": null,
            "height": null,
            "justify_content": null,
            "justify_items": null,
            "left": null,
            "margin": null,
            "max_height": null,
            "max_width": null,
            "min_height": null,
            "min_width": null,
            "object_fit": null,
            "object_position": null,
            "order": null,
            "overflow": null,
            "overflow_x": null,
            "overflow_y": null,
            "padding": null,
            "right": null,
            "top": null,
            "visibility": null,
            "width": null
          }
        },
        "5a4787ad232e47eaaa5a743ecfefad7e": {
          "model_module": "@jupyter-widgets/base",
          "model_name": "LayoutModel",
          "model_module_version": "1.2.0",
          "state": {
            "_model_module": "@jupyter-widgets/base",
            "_model_module_version": "1.2.0",
            "_model_name": "LayoutModel",
            "_view_count": null,
            "_view_module": "@jupyter-widgets/base",
            "_view_module_version": "1.2.0",
            "_view_name": "LayoutView",
            "align_content": null,
            "align_items": null,
            "align_self": null,
            "border": null,
            "bottom": null,
            "display": null,
            "flex": null,
            "flex_flow": null,
            "grid_area": null,
            "grid_auto_columns": null,
            "grid_auto_flow": null,
            "grid_auto_rows": null,
            "grid_column": null,
            "grid_gap": null,
            "grid_row": null,
            "grid_template_areas": null,
            "grid_template_columns": null,
            "grid_template_rows": null,
            "height": null,
            "justify_content": null,
            "justify_items": null,
            "left": null,
            "margin": null,
            "max_height": null,
            "max_width": null,
            "min_height": null,
            "min_width": null,
            "object_fit": null,
            "object_position": null,
            "order": null,
            "overflow": null,
            "overflow_x": null,
            "overflow_y": null,
            "padding": null,
            "right": null,
            "top": null,
            "visibility": null,
            "width": null
          }
        },
        "9b12212405ab4e4eaebfcf3ae179d5eb": {
          "model_module": "@jupyter-widgets/controls",
          "model_name": "DescriptionStyleModel",
          "model_module_version": "1.5.0",
          "state": {
            "_model_module": "@jupyter-widgets/controls",
            "_model_module_version": "1.5.0",
            "_model_name": "DescriptionStyleModel",
            "_view_count": null,
            "_view_module": "@jupyter-widgets/base",
            "_view_module_version": "1.2.0",
            "_view_name": "StyleView",
            "description_width": ""
          }
        },
        "bfa47d31715a47879d633930d78faad6": {
          "model_module": "@jupyter-widgets/controls",
          "model_name": "ButtonModel",
          "model_module_version": "1.5.0",
          "state": {
            "_dom_classes": [
              "happy"
            ],
            "_model_module": "@jupyter-widgets/controls",
            "_model_module_version": "1.5.0",
            "_model_name": "ButtonModel",
            "_view_count": null,
            "_view_module": "@jupyter-widgets/controls",
            "_view_module_version": "1.5.0",
            "_view_name": "ButtonView",
            "button_style": "",
            "description": "🙂",
            "disabled": false,
            "icon": "",
            "layout": "IPY_MODEL_2600b545f1e84d709b5485dda360c4c1",
            "style": "IPY_MODEL_7fa25512007f44c19706642635e3dc6e",
            "tooltip": "Happy"
          }
        },
        "5519a772bf514e1ca416a534f1450469": {
          "model_module": "@jupyter-widgets/controls",
          "model_name": "ButtonModel",
          "model_module_version": "1.5.0",
          "state": {
            "_dom_classes": [
              "medium"
            ],
            "_model_module": "@jupyter-widgets/controls",
            "_model_module_version": "1.5.0",
            "_model_name": "ButtonModel",
            "_view_count": null,
            "_view_module": "@jupyter-widgets/controls",
            "_view_module_version": "1.5.0",
            "_view_name": "ButtonView",
            "button_style": "",
            "description": "😐",
            "disabled": false,
            "icon": "",
            "layout": "IPY_MODEL_9d51153ecaa54af4af90d51ddb0737f8",
            "style": "IPY_MODEL_02236b47861845f49ba6359a7d7d02e6",
            "tooltip": "Medium"
          }
        },
        "b56a18deb61f4c67a27655eeb65dbf10": {
          "model_module": "@jupyter-widgets/controls",
          "model_name": "ButtonModel",
          "model_module_version": "1.5.0",
          "state": {
            "_dom_classes": [
              "sad"
            ],
            "_model_module": "@jupyter-widgets/controls",
            "_model_module_version": "1.5.0",
            "_model_name": "ButtonModel",
            "_view_count": null,
            "_view_module": "@jupyter-widgets/controls",
            "_view_module_version": "1.5.0",
            "_view_name": "ButtonView",
            "button_style": "",
            "description": "🙁",
            "disabled": false,
            "icon": "",
            "layout": "IPY_MODEL_42d89327fd3c449eacf6558cc27938b3",
            "style": "IPY_MODEL_f423dbde44444c5695861d01b905f735",
            "tooltip": "Sad"
          }
        },
        "067d5662703a4b3b8e6dfcaf096c8983": {
          "model_module": "@jupyter-widgets/base",
          "model_name": "LayoutModel",
          "model_module_version": "1.2.0",
          "state": {
            "_model_module": "@jupyter-widgets/base",
            "_model_module_version": "1.2.0",
            "_model_name": "LayoutModel",
            "_view_count": null,
            "_view_module": "@jupyter-widgets/base",
            "_view_module_version": "1.2.0",
            "_view_name": "LayoutView",
            "align_content": null,
            "align_items": null,
            "align_self": null,
            "border": null,
            "bottom": null,
            "display": null,
            "flex": null,
            "flex_flow": null,
            "grid_area": null,
            "grid_auto_columns": null,
            "grid_auto_flow": null,
            "grid_auto_rows": null,
            "grid_column": null,
            "grid_gap": null,
            "grid_row": null,
            "grid_template_areas": null,
            "grid_template_columns": null,
            "grid_template_rows": null,
            "height": null,
            "justify_content": null,
            "justify_items": null,
            "left": null,
            "margin": null,
            "max_height": null,
            "max_width": null,
            "min_height": null,
            "min_width": null,
            "object_fit": null,
            "object_position": null,
            "order": null,
            "overflow": null,
            "overflow_x": null,
            "overflow_y": null,
            "padding": null,
            "right": null,
            "top": null,
            "visibility": null,
            "width": null
          }
        },
        "8973baa12f4946e696b063012dafc9b8": {
          "model_module": "@jupyter-widgets/controls",
          "model_name": "TextareaModel",
          "model_module_version": "1.5.0",
          "state": {
            "_dom_classes": [],
            "_model_module": "@jupyter-widgets/controls",
            "_model_module_version": "1.5.0",
            "_model_name": "TextareaModel",
            "_view_count": null,
            "_view_module": "@jupyter-widgets/controls",
            "_view_module_version": "1.5.0",
            "_view_name": "TextareaView",
            "continuous_update": true,
            "description": "",
            "description_tooltip": null,
            "disabled": false,
            "layout": "IPY_MODEL_8a903b994ddc43b899f4d800e95b5f17",
            "placeholder": "We want your feedback!",
            "rows": null,
            "style": "IPY_MODEL_bd0ed6f3e3bc423597f6d4853caa4101",
            "value": ""
          }
        },
        "802c999c42174bbd896b119b67a7e2b8": {
          "model_module": "@jupyter-widgets/controls",
          "model_name": "ButtonModel",
          "model_module_version": "1.5.0",
          "state": {
            "_dom_classes": [],
            "_model_module": "@jupyter-widgets/controls",
            "_model_module_version": "1.5.0",
            "_model_name": "ButtonModel",
            "_view_count": null,
            "_view_module": "@jupyter-widgets/controls",
            "_view_module_version": "1.5.0",
            "_view_name": "ButtonView",
            "button_style": "",
            "description": "Submit",
            "disabled": false,
            "icon": "",
            "layout": "IPY_MODEL_8b97eb9193b54a4087a66eb6e22d6f4d",
            "style": "IPY_MODEL_25f81083d5a34c3e9e4dd06bddb616dd",
            "tooltip": ""
          }
        },
        "1e6006f81360404ba1308b57d0792bf2": {
          "model_module": "@jupyter-widgets/base",
          "model_name": "LayoutModel",
          "model_module_version": "1.2.0",
          "state": {
            "_model_module": "@jupyter-widgets/base",
            "_model_module_version": "1.2.0",
            "_model_name": "LayoutModel",
            "_view_count": null,
            "_view_module": "@jupyter-widgets/base",
            "_view_module_version": "1.2.0",
            "_view_name": "LayoutView",
            "align_content": null,
            "align_items": null,
            "align_self": null,
            "border": null,
            "bottom": null,
            "display": "none",
            "flex": null,
            "flex_flow": null,
            "grid_area": null,
            "grid_auto_columns": null,
            "grid_auto_flow": null,
            "grid_auto_rows": null,
            "grid_column": null,
            "grid_gap": null,
            "grid_row": null,
            "grid_template_areas": null,
            "grid_template_columns": null,
            "grid_template_rows": null,
            "height": null,
            "justify_content": null,
            "justify_items": null,
            "left": null,
            "margin": null,
            "max_height": null,
            "max_width": null,
            "min_height": null,
            "min_width": null,
            "object_fit": null,
            "object_position": null,
            "order": null,
            "overflow": null,
            "overflow_x": null,
            "overflow_y": null,
            "padding": null,
            "right": null,
            "top": null,
            "visibility": null,
            "width": null
          }
        },
        "ff5094de8bab44b185b7507878a05df0": {
          "model_module": "@jupyter-widgets/base",
          "model_name": "LayoutModel",
          "model_module_version": "1.2.0",
          "state": {
            "_model_module": "@jupyter-widgets/base",
            "_model_module_version": "1.2.0",
            "_model_name": "LayoutModel",
            "_view_count": null,
            "_view_module": "@jupyter-widgets/base",
            "_view_module_version": "1.2.0",
            "_view_name": "LayoutView",
            "align_content": null,
            "align_items": null,
            "align_self": null,
            "border": null,
            "bottom": null,
            "display": "none",
            "flex": null,
            "flex_flow": null,
            "grid_area": null,
            "grid_auto_columns": null,
            "grid_auto_flow": null,
            "grid_auto_rows": null,
            "grid_column": null,
            "grid_gap": null,
            "grid_row": null,
            "grid_template_areas": null,
            "grid_template_columns": null,
            "grid_template_rows": null,
            "height": null,
            "justify_content": null,
            "justify_items": null,
            "left": null,
            "margin": null,
            "max_height": null,
            "max_width": null,
            "min_height": null,
            "min_width": null,
            "object_fit": null,
            "object_position": null,
            "order": null,
            "overflow": null,
            "overflow_x": null,
            "overflow_y": null,
            "padding": null,
            "right": null,
            "top": null,
            "visibility": null,
            "width": null
          }
        },
        "0b551afec01c49c79a181b4ca65ae957": {
          "model_module": "@jupyter-widgets/controls",
          "model_name": "DescriptionStyleModel",
          "model_module_version": "1.5.0",
          "state": {
            "_model_module": "@jupyter-widgets/controls",
            "_model_module_version": "1.5.0",
            "_model_name": "DescriptionStyleModel",
            "_view_count": null,
            "_view_module": "@jupyter-widgets/base",
            "_view_module_version": "1.2.0",
            "_view_name": "StyleView",
            "description_width": ""
          }
        },
        "2600b545f1e84d709b5485dda360c4c1": {
          "model_module": "@jupyter-widgets/base",
          "model_name": "LayoutModel",
          "model_module_version": "1.2.0",
          "state": {
            "_model_module": "@jupyter-widgets/base",
            "_model_module_version": "1.2.0",
            "_model_name": "LayoutModel",
            "_view_count": null,
            "_view_module": "@jupyter-widgets/base",
            "_view_module_version": "1.2.0",
            "_view_name": "LayoutView",
            "align_content": null,
            "align_items": null,
            "align_self": null,
            "border": null,
            "bottom": null,
            "display": null,
            "flex": null,
            "flex_flow": null,
            "grid_area": null,
            "grid_auto_columns": null,
            "grid_auto_flow": null,
            "grid_auto_rows": null,
            "grid_column": null,
            "grid_gap": null,
            "grid_row": null,
            "grid_template_areas": null,
            "grid_template_columns": null,
            "grid_template_rows": null,
            "height": "auto",
            "justify_content": null,
            "justify_items": null,
            "left": null,
            "margin": null,
            "max_height": null,
            "max_width": null,
            "min_height": null,
            "min_width": null,
            "object_fit": null,
            "object_position": null,
            "order": null,
            "overflow": null,
            "overflow_x": null,
            "overflow_y": null,
            "padding": null,
            "right": null,
            "top": null,
            "visibility": null,
            "width": "auto"
          }
        },
        "7fa25512007f44c19706642635e3dc6e": {
          "model_module": "@jupyter-widgets/controls",
          "model_name": "ButtonStyleModel",
          "model_module_version": "1.5.0",
          "state": {
            "_model_module": "@jupyter-widgets/controls",
            "_model_module_version": "1.5.0",
            "_model_name": "ButtonStyleModel",
            "_view_count": null,
            "_view_module": "@jupyter-widgets/base",
            "_view_module_version": "1.2.0",
            "_view_name": "StyleView",
            "button_color": "#aaffaa",
            "font_weight": ""
          }
        },
        "9d51153ecaa54af4af90d51ddb0737f8": {
          "model_module": "@jupyter-widgets/base",
          "model_name": "LayoutModel",
          "model_module_version": "1.2.0",
          "state": {
            "_model_module": "@jupyter-widgets/base",
            "_model_module_version": "1.2.0",
            "_model_name": "LayoutModel",
            "_view_count": null,
            "_view_module": "@jupyter-widgets/base",
            "_view_module_version": "1.2.0",
            "_view_name": "LayoutView",
            "align_content": null,
            "align_items": null,
            "align_self": null,
            "border": null,
            "bottom": null,
            "display": null,
            "flex": null,
            "flex_flow": null,
            "grid_area": null,
            "grid_auto_columns": null,
            "grid_auto_flow": null,
            "grid_auto_rows": null,
            "grid_column": null,
            "grid_gap": null,
            "grid_row": null,
            "grid_template_areas": null,
            "grid_template_columns": null,
            "grid_template_rows": null,
            "height": "auto",
            "justify_content": null,
            "justify_items": null,
            "left": null,
            "margin": null,
            "max_height": null,
            "max_width": null,
            "min_height": null,
            "min_width": null,
            "object_fit": null,
            "object_position": null,
            "order": null,
            "overflow": null,
            "overflow_x": null,
            "overflow_y": null,
            "padding": null,
            "right": null,
            "top": null,
            "visibility": null,
            "width": "auto"
          }
        },
        "02236b47861845f49ba6359a7d7d02e6": {
          "model_module": "@jupyter-widgets/controls",
          "model_name": "ButtonStyleModel",
          "model_module_version": "1.5.0",
          "state": {
            "_model_module": "@jupyter-widgets/controls",
            "_model_module_version": "1.5.0",
            "_model_name": "ButtonStyleModel",
            "_view_count": null,
            "_view_module": "@jupyter-widgets/base",
            "_view_module_version": "1.2.0",
            "_view_name": "StyleView",
            "button_color": "#dddd77",
            "font_weight": ""
          }
        },
        "42d89327fd3c449eacf6558cc27938b3": {
          "model_module": "@jupyter-widgets/base",
          "model_name": "LayoutModel",
          "model_module_version": "1.2.0",
          "state": {
            "_model_module": "@jupyter-widgets/base",
            "_model_module_version": "1.2.0",
            "_model_name": "LayoutModel",
            "_view_count": null,
            "_view_module": "@jupyter-widgets/base",
            "_view_module_version": "1.2.0",
            "_view_name": "LayoutView",
            "align_content": null,
            "align_items": null,
            "align_self": null,
            "border": null,
            "bottom": null,
            "display": null,
            "flex": null,
            "flex_flow": null,
            "grid_area": null,
            "grid_auto_columns": null,
            "grid_auto_flow": null,
            "grid_auto_rows": null,
            "grid_column": null,
            "grid_gap": null,
            "grid_row": null,
            "grid_template_areas": null,
            "grid_template_columns": null,
            "grid_template_rows": null,
            "height": "auto",
            "justify_content": null,
            "justify_items": null,
            "left": null,
            "margin": null,
            "max_height": null,
            "max_width": null,
            "min_height": null,
            "min_width": null,
            "object_fit": null,
            "object_position": null,
            "order": null,
            "overflow": null,
            "overflow_x": null,
            "overflow_y": null,
            "padding": null,
            "right": null,
            "top": null,
            "visibility": null,
            "width": "auto"
          }
        },
        "f423dbde44444c5695861d01b905f735": {
          "model_module": "@jupyter-widgets/controls",
          "model_name": "ButtonStyleModel",
          "model_module_version": "1.5.0",
          "state": {
            "_model_module": "@jupyter-widgets/controls",
            "_model_module_version": "1.5.0",
            "_model_name": "ButtonStyleModel",
            "_view_count": null,
            "_view_module": "@jupyter-widgets/base",
            "_view_module_version": "1.2.0",
            "_view_name": "StyleView",
            "button_color": "#ffaaaa",
            "font_weight": ""
          }
        },
        "8a903b994ddc43b899f4d800e95b5f17": {
          "model_module": "@jupyter-widgets/base",
          "model_name": "LayoutModel",
          "model_module_version": "1.2.0",
          "state": {
            "_model_module": "@jupyter-widgets/base",
            "_model_module_version": "1.2.0",
            "_model_name": "LayoutModel",
            "_view_count": null,
            "_view_module": "@jupyter-widgets/base",
            "_view_module_version": "1.2.0",
            "_view_name": "LayoutView",
            "align_content": null,
            "align_items": null,
            "align_self": null,
            "border": null,
            "bottom": null,
            "display": null,
            "flex": null,
            "flex_flow": null,
            "grid_area": null,
            "grid_auto_columns": null,
            "grid_auto_flow": null,
            "grid_auto_rows": null,
            "grid_column": null,
            "grid_gap": null,
            "grid_row": null,
            "grid_template_areas": null,
            "grid_template_columns": null,
            "grid_template_rows": null,
            "height": "auto",
            "justify_content": null,
            "justify_items": null,
            "left": null,
            "margin": null,
            "max_height": null,
            "max_width": null,
            "min_height": null,
            "min_width": null,
            "object_fit": null,
            "object_position": null,
            "order": null,
            "overflow": null,
            "overflow_x": null,
            "overflow_y": null,
            "padding": null,
            "right": null,
            "top": null,
            "visibility": null,
            "width": "auto"
          }
        },
        "bd0ed6f3e3bc423597f6d4853caa4101": {
          "model_module": "@jupyter-widgets/controls",
          "model_name": "DescriptionStyleModel",
          "model_module_version": "1.5.0",
          "state": {
            "_model_module": "@jupyter-widgets/controls",
            "_model_module_version": "1.5.0",
            "_model_name": "DescriptionStyleModel",
            "_view_count": null,
            "_view_module": "@jupyter-widgets/base",
            "_view_module_version": "1.2.0",
            "_view_name": "StyleView",
            "description_width": ""
          }
        },
        "8b97eb9193b54a4087a66eb6e22d6f4d": {
          "model_module": "@jupyter-widgets/base",
          "model_name": "LayoutModel",
          "model_module_version": "1.2.0",
          "state": {
            "_model_module": "@jupyter-widgets/base",
            "_model_module_version": "1.2.0",
            "_model_name": "LayoutModel",
            "_view_count": null,
            "_view_module": "@jupyter-widgets/base",
            "_view_module_version": "1.2.0",
            "_view_name": "LayoutView",
            "align_content": null,
            "align_items": null,
            "align_self": null,
            "border": null,
            "bottom": null,
            "display": null,
            "flex": null,
            "flex_flow": null,
            "grid_area": null,
            "grid_auto_columns": null,
            "grid_auto_flow": null,
            "grid_auto_rows": null,
            "grid_column": null,
            "grid_gap": null,
            "grid_row": null,
            "grid_template_areas": null,
            "grid_template_columns": null,
            "grid_template_rows": null,
            "height": "auto",
            "justify_content": null,
            "justify_items": null,
            "left": null,
            "margin": null,
            "max_height": null,
            "max_width": null,
            "min_height": null,
            "min_width": null,
            "object_fit": null,
            "object_position": null,
            "order": null,
            "overflow": null,
            "overflow_x": null,
            "overflow_y": null,
            "padding": null,
            "right": null,
            "top": null,
            "visibility": null,
            "width": "auto"
          }
        },
        "25f81083d5a34c3e9e4dd06bddb616dd": {
          "model_module": "@jupyter-widgets/controls",
          "model_name": "ButtonStyleModel",
          "model_module_version": "1.5.0",
          "state": {
            "_model_module": "@jupyter-widgets/controls",
            "_model_module_version": "1.5.0",
            "_model_name": "ButtonStyleModel",
            "_view_count": null,
            "_view_module": "@jupyter-widgets/base",
            "_view_module_version": "1.2.0",
            "_view_name": "StyleView",
            "button_color": null,
            "font_weight": ""
          }
        }
      }
    }
  },
  "nbformat": 4,
  "nbformat_minor": 0
}